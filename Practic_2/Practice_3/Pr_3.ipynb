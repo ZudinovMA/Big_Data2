{
 "cells": [
  {
   "cell_type": "code",
   "execution_count": 30,
   "outputs": [],
   "source": [
    "import pandas as pd\n",
    "import matplotlib.pyplot as plt\n",
    "import seaborn as sns\n",
    "import numpy as np\n",
    "from scipy import stats"
   ],
   "metadata": {
    "collapsed": false,
    "ExecuteTime": {
     "end_time": "2023-10-17T09:06:50.588274100Z",
     "start_time": "2023-10-17T09:06:50.251586900Z"
    }
   }
  },
  {
   "cell_type": "markdown",
   "source": [
    "# Загрузить данные из файла “insurance.csv”"
   ],
   "metadata": {
    "collapsed": false
   }
  },
  {
   "cell_type": "code",
   "execution_count": 31,
   "outputs": [
    {
     "data": {
      "text/plain": "      age     sex     bmi  children smoker     region      charges\n0      19  female  27.900         0    yes  southwest  16884.92400\n1      18    male  33.770         1     no  southeast   1725.55230\n2      28    male  33.000         3     no  southeast   4449.46200\n3      33    male  22.705         0     no  northwest  21984.47061\n4      32    male  28.880         0     no  northwest   3866.85520\n...   ...     ...     ...       ...    ...        ...          ...\n1333   50    male  30.970         3     no  northwest  10600.54830\n1334   18  female  31.920         0     no  northeast   2205.98080\n1335   18  female  36.850         0     no  southeast   1629.83350\n1336   21  female  25.800         0     no  southwest   2007.94500\n1337   61  female  29.070         0    yes  northwest  29141.36030\n\n[1338 rows x 7 columns]",
      "text/html": "<div>\n<style scoped>\n    .dataframe tbody tr th:only-of-type {\n        vertical-align: middle;\n    }\n\n    .dataframe tbody tr th {\n        vertical-align: top;\n    }\n\n    .dataframe thead th {\n        text-align: right;\n    }\n</style>\n<table border=\"1\" class=\"dataframe\">\n  <thead>\n    <tr style=\"text-align: right;\">\n      <th></th>\n      <th>age</th>\n      <th>sex</th>\n      <th>bmi</th>\n      <th>children</th>\n      <th>smoker</th>\n      <th>region</th>\n      <th>charges</th>\n    </tr>\n  </thead>\n  <tbody>\n    <tr>\n      <th>0</th>\n      <td>19</td>\n      <td>female</td>\n      <td>27.900</td>\n      <td>0</td>\n      <td>yes</td>\n      <td>southwest</td>\n      <td>16884.92400</td>\n    </tr>\n    <tr>\n      <th>1</th>\n      <td>18</td>\n      <td>male</td>\n      <td>33.770</td>\n      <td>1</td>\n      <td>no</td>\n      <td>southeast</td>\n      <td>1725.55230</td>\n    </tr>\n    <tr>\n      <th>2</th>\n      <td>28</td>\n      <td>male</td>\n      <td>33.000</td>\n      <td>3</td>\n      <td>no</td>\n      <td>southeast</td>\n      <td>4449.46200</td>\n    </tr>\n    <tr>\n      <th>3</th>\n      <td>33</td>\n      <td>male</td>\n      <td>22.705</td>\n      <td>0</td>\n      <td>no</td>\n      <td>northwest</td>\n      <td>21984.47061</td>\n    </tr>\n    <tr>\n      <th>4</th>\n      <td>32</td>\n      <td>male</td>\n      <td>28.880</td>\n      <td>0</td>\n      <td>no</td>\n      <td>northwest</td>\n      <td>3866.85520</td>\n    </tr>\n    <tr>\n      <th>...</th>\n      <td>...</td>\n      <td>...</td>\n      <td>...</td>\n      <td>...</td>\n      <td>...</td>\n      <td>...</td>\n      <td>...</td>\n    </tr>\n    <tr>\n      <th>1333</th>\n      <td>50</td>\n      <td>male</td>\n      <td>30.970</td>\n      <td>3</td>\n      <td>no</td>\n      <td>northwest</td>\n      <td>10600.54830</td>\n    </tr>\n    <tr>\n      <th>1334</th>\n      <td>18</td>\n      <td>female</td>\n      <td>31.920</td>\n      <td>0</td>\n      <td>no</td>\n      <td>northeast</td>\n      <td>2205.98080</td>\n    </tr>\n    <tr>\n      <th>1335</th>\n      <td>18</td>\n      <td>female</td>\n      <td>36.850</td>\n      <td>0</td>\n      <td>no</td>\n      <td>southeast</td>\n      <td>1629.83350</td>\n    </tr>\n    <tr>\n      <th>1336</th>\n      <td>21</td>\n      <td>female</td>\n      <td>25.800</td>\n      <td>0</td>\n      <td>no</td>\n      <td>southwest</td>\n      <td>2007.94500</td>\n    </tr>\n    <tr>\n      <th>1337</th>\n      <td>61</td>\n      <td>female</td>\n      <td>29.070</td>\n      <td>0</td>\n      <td>yes</td>\n      <td>northwest</td>\n      <td>29141.36030</td>\n    </tr>\n  </tbody>\n</table>\n<p>1338 rows × 7 columns</p>\n</div>"
     },
     "execution_count": 31,
     "metadata": {},
     "output_type": "execute_result"
    }
   ],
   "source": [
    "data = pd.read_csv('insurance.csv')\n",
    "data"
   ],
   "metadata": {
    "collapsed": false,
    "ExecuteTime": {
     "end_time": "2023-10-17T09:06:50.819552100Z",
     "start_time": "2023-10-17T09:06:50.263115800Z"
    }
   }
  },
  {
   "cell_type": "markdown",
   "source": [
    "возраст, пол, ИМТ, дети, курильщик, регион,расходы"
   ],
   "metadata": {
    "collapsed": false
   }
  },
  {
   "cell_type": "markdown",
   "source": [
    "# С помощью метода describe() посмотреть статистику по данным.\n",
    "# Сделать выводы"
   ],
   "metadata": {
    "collapsed": false
   }
  },
  {
   "cell_type": "code",
   "execution_count": 32,
   "outputs": [
    {
     "data": {
      "text/plain": "               age          bmi     children       charges\ncount  1338.000000  1338.000000  1338.000000   1338.000000\nmean     39.207025    30.663397     1.094918  13270.422265\nstd      14.049960     6.098187     1.205493  12110.011237\nmin      18.000000    15.960000     0.000000   1121.873900\n25%      27.000000    26.296250     0.000000   4740.287150\n50%      39.000000    30.400000     1.000000   9382.033000\n75%      51.000000    34.693750     2.000000  16639.912515\nmax      64.000000    53.130000     5.000000  63770.428010",
      "text/html": "<div>\n<style scoped>\n    .dataframe tbody tr th:only-of-type {\n        vertical-align: middle;\n    }\n\n    .dataframe tbody tr th {\n        vertical-align: top;\n    }\n\n    .dataframe thead th {\n        text-align: right;\n    }\n</style>\n<table border=\"1\" class=\"dataframe\">\n  <thead>\n    <tr style=\"text-align: right;\">\n      <th></th>\n      <th>age</th>\n      <th>bmi</th>\n      <th>children</th>\n      <th>charges</th>\n    </tr>\n  </thead>\n  <tbody>\n    <tr>\n      <th>count</th>\n      <td>1338.000000</td>\n      <td>1338.000000</td>\n      <td>1338.000000</td>\n      <td>1338.000000</td>\n    </tr>\n    <tr>\n      <th>mean</th>\n      <td>39.207025</td>\n      <td>30.663397</td>\n      <td>1.094918</td>\n      <td>13270.422265</td>\n    </tr>\n    <tr>\n      <th>std</th>\n      <td>14.049960</td>\n      <td>6.098187</td>\n      <td>1.205493</td>\n      <td>12110.011237</td>\n    </tr>\n    <tr>\n      <th>min</th>\n      <td>18.000000</td>\n      <td>15.960000</td>\n      <td>0.000000</td>\n      <td>1121.873900</td>\n    </tr>\n    <tr>\n      <th>25%</th>\n      <td>27.000000</td>\n      <td>26.296250</td>\n      <td>0.000000</td>\n      <td>4740.287150</td>\n    </tr>\n    <tr>\n      <th>50%</th>\n      <td>39.000000</td>\n      <td>30.400000</td>\n      <td>1.000000</td>\n      <td>9382.033000</td>\n    </tr>\n    <tr>\n      <th>75%</th>\n      <td>51.000000</td>\n      <td>34.693750</td>\n      <td>2.000000</td>\n      <td>16639.912515</td>\n    </tr>\n    <tr>\n      <th>max</th>\n      <td>64.000000</td>\n      <td>53.130000</td>\n      <td>5.000000</td>\n      <td>63770.428010</td>\n    </tr>\n  </tbody>\n</table>\n</div>"
     },
     "execution_count": 32,
     "metadata": {},
     "output_type": "execute_result"
    }
   ],
   "source": [
    "data.describe()"
   ],
   "metadata": {
    "collapsed": false,
    "ExecuteTime": {
     "end_time": "2023-10-17T09:06:50.820552700Z",
     "start_time": "2023-10-17T09:06:50.291668Z"
    }
   }
  },
  {
   "cell_type": "markdown",
   "source": [
    "Выводы: какие выводы?"
   ],
   "metadata": {
    "collapsed": false
   }
  },
  {
   "cell_type": "markdown",
   "source": [
    "# Построить гистограммы для числовых показателей.\n",
    "# Сделать выводы."
   ],
   "metadata": {
    "collapsed": false
   }
  },
  {
   "cell_type": "code",
   "execution_count": 33,
   "outputs": [
    {
     "data": {
      "text/plain": "<Figure size 640x480 with 4 Axes>",
      "image/png": "[encoded data removed]"
     },
     "metadata": {},
     "output_type": "display_data"
    }
   ],
   "source": [
    "data.hist(edgecolor='white')\n",
    "plt.show()"
   ],
   "metadata": {
    "collapsed": false,
    "ExecuteTime": {
     "end_time": "2023-10-17T09:06:50.914712700Z",
     "start_time": "2023-10-17T09:06:50.306706900Z"
    }
   }
  },
  {
   "cell_type": "markdown",
   "source": [
    "Выводы: какие выводы?"
   ],
   "metadata": {
    "collapsed": false
   }
  },
  {
   "cell_type": "code",
   "execution_count": 34,
   "outputs": [
    {
     "data": {
      "text/plain": "<seaborn.axisgrid.FacetGrid at 0x19fffdbaa10>"
     },
     "execution_count": 34,
     "metadata": {},
     "output_type": "execute_result"
    },
    {
     "data": {
      "text/plain": "<Figure size 500x500 with 1 Axes>",
      "image/png": "[encoded data removed]"
     },
     "metadata": {},
     "output_type": "display_data"
    }
   ],
   "source": [
    "sns.displot(data.age, kde=True)"
   ],
   "metadata": {
    "collapsed": false,
    "ExecuteTime": {
     "end_time": "2023-10-17T09:06:51.184202400Z",
     "start_time": "2023-10-17T09:06:50.842600600Z"
    }
   }
  },
  {
   "cell_type": "markdown",
   "source": [
    "# Найти меры центральной тенденции и меры разброса для индекса массы тела (bmi) и расходов (charges).\n",
    "# Отобразить результаты в виде текста и на гистограммах (3 вертикальные линии). Добавить легенду на графики.\n",
    "# Сделать выводы."
   ],
   "metadata": {
    "collapsed": false
   }
  },
  {
   "cell_type": "code",
   "execution_count": 35,
   "outputs": [],
   "source": [
    "bmi_mean = data['bmi'].mean()\n",
    "bmi_median = data['bmi'].median()\n",
    "bmi_mode = data['bmi'].mode().values[0]\n",
    "\n",
    "charges_mean = data['charges'].mean()\n",
    "charges_median = data['charges'].median()\n",
    "charges_mode = data['charges'].mode().values[0]"
   ],
   "metadata": {
    "collapsed": false,
    "ExecuteTime": {
     "end_time": "2023-10-17T09:06:51.185203300Z",
     "start_time": "2023-10-17T09:06:51.152618400Z"
    }
   }
  },
  {
   "cell_type": "code",
   "execution_count": 36,
   "outputs": [],
   "source": [
    "bmi_std = data['bmi'].std()\n",
    "charges_std = data['charges'].std()"
   ],
   "metadata": {
    "collapsed": false,
    "ExecuteTime": {
     "end_time": "2023-10-17T09:06:51.185203300Z",
     "start_time": "2023-10-17T09:06:51.179197200Z"
    }
   }
  },
  {
   "cell_type": "code",
   "execution_count": 37,
   "outputs": [
    {
     "name": "stdout",
     "output_type": "stream",
     "text": [
      "Для BMI:\n",
      "Среднее значение: 30.66339686098655\n",
      "Медиана: 30.4\n",
      "Мода: 32.3\n",
      "Стандартное отклонение: 6.098186911679014\n",
      "\n",
      "Для charges:\n",
      "Среднее значение: 13270.422265141257\n",
      "Медиана: 9382.033\n",
      "Мода: 1639.5631\n",
      "Стандартное отклонение: 12110.011236694001\n"
     ]
    }
   ],
   "source": [
    "print(\"Для BMI:\")\n",
    "print(f\"Среднее значение: {bmi_mean}\")\n",
    "print(f\"Медиана: {bmi_median}\")\n",
    "print(f\"Мода: {bmi_mode}\")\n",
    "print(f\"Стандартное отклонение: {bmi_std}\")\n",
    "print(\"\\nДля charges:\")\n",
    "print(f\"Среднее значение: {charges_mean}\")\n",
    "print(f\"Медиана: {charges_median}\")\n",
    "print(f\"Мода: {charges_mode}\")\n",
    "print(f\"Стандартное отклонение: {charges_std}\")"
   ],
   "metadata": {
    "collapsed": false,
    "ExecuteTime": {
     "end_time": "2023-10-17T09:06:51.203102300Z",
     "start_time": "2023-10-17T09:06:51.182200100Z"
    }
   }
  },
  {
   "cell_type": "code",
   "execution_count": 38,
   "outputs": [
    {
     "data": {
      "text/plain": "<Figure size 640x480 with 2 Axes>",
      "image/png": "[encoded data removed]"
     },
     "metadata": {},
     "output_type": "display_data"
    }
   ],
   "source": [
    "plt.subplot(1, 2, 1)\n",
    "data['bmi'].hist(alpha=0.5, color='blue', bins=30, label='BMI')\n",
    "plt.axvline(bmi_mean, color='red', linestyle='dashed', linewidth=2, label='Среднее')\n",
    "plt.axvline(bmi_median, color='green', linestyle='dashed', linewidth=2, label='Медиана')\n",
    "plt.axvline(bmi_mode, color='purple', linestyle='dashed', linewidth=2, label='Мода')\n",
    "plt.xlabel('BMI')\n",
    "plt.ylabel('Частота')\n",
    "\n",
    "plt.subplot(1, 2, 2)\n",
    "data['charges'].hist(alpha=0.5, color='orange', bins=30, label='Charges')\n",
    "plt.axvline(charges_mean, color='red', linestyle='dashed', linewidth=2, label='Среднее')\n",
    "plt.axvline(charges_median, color='green', linestyle='dashed', linewidth=2, label='Медиана')\n",
    "plt.axvline(charges_mode, color='purple', linestyle='dashed', linewidth=2, label='Мода')\n",
    "plt.xlabel('Charges')\n",
    "plt.ylabel('Частота')\n",
    "plt.legend()\n",
    "\n",
    "plt.tight_layout()\n",
    "plt.show()"
   ],
   "metadata": {
    "collapsed": false,
    "ExecuteTime": {
     "end_time": "2023-10-17T09:06:52.207131Z",
     "start_time": "2023-10-17T09:06:51.197095100Z"
    }
   }
  },
  {
   "cell_type": "markdown",
   "source": [
    "# Построить box-plot для числовых показателей. Названия графиков должны соответствовать названиям признаков. Сделать выводы"
   ],
   "metadata": {
    "collapsed": false
   }
  },
  {
   "cell_type": "code",
   "execution_count": 39,
   "outputs": [
    {
     "data": {
      "text/plain": "<Figure size 1200x600 with 4 Axes>",
      "image/png": "[encoded data removed]"
     },
     "metadata": {},
     "output_type": "display_data"
    }
   ],
   "source": [
    "numeric_features = ['age', 'bmi', 'charges', 'children']\n",
    "plt.figure(figsize=(12, 6))\n",
    "for i, feature in enumerate(numeric_features):\n",
    "    plt.subplot(1, len(numeric_features), i + 1)\n",
    "    data.boxplot(column=feature)\n",
    "    plt.title(feature)\n",
    "plt.tight_layout()\n",
    "plt.show()"
   ],
   "metadata": {
    "collapsed": false,
    "ExecuteTime": {
     "end_time": "2023-10-17T09:06:52.254725200Z",
     "start_time": "2023-10-17T09:06:52.207131Z"
    }
   }
  },
  {
   "cell_type": "code",
   "execution_count": 40,
   "outputs": [
    {
     "ename": "TypeError",
     "evalue": "scatter() missing 1 required positional argument: 'y'",
     "output_type": "error",
     "traceback": [
      "\u001B[1;31m---------------------------------------------------------------------------\u001B[0m",
      "\u001B[1;31mTypeError\u001B[0m                                 Traceback (most recent call last)",
      "Cell \u001B[1;32mIn[40], line 3\u001B[0m\n\u001B[0;32m      1\u001B[0m plt\u001B[38;5;241m.\u001B[39mfigure(figsize\u001B[38;5;241m=\u001B[39m(\u001B[38;5;241m6\u001B[39m, \u001B[38;5;241m6\u001B[39m))\n\u001B[0;32m      2\u001B[0m plt\u001B[38;5;241m.\u001B[39mboxplot([data[\u001B[38;5;124m'\u001B[39m\u001B[38;5;124mage\u001B[39m\u001B[38;5;124m'\u001B[39m], data[\u001B[38;5;124m'\u001B[39m\u001B[38;5;124mbmi\u001B[39m\u001B[38;5;124m'\u001B[39m]], labels\u001B[38;5;241m=\u001B[39m[\u001B[38;5;124m'\u001B[39m\u001B[38;5;124mage\u001B[39m\u001B[38;5;124m'\u001B[39m, \u001B[38;5;124m'\u001B[39m\u001B[38;5;124mbmi\u001B[39m\u001B[38;5;124m'\u001B[39m], vert\u001B[38;5;241m=\u001B[39m\u001B[38;5;28;01mFalse\u001B[39;00m)\n\u001B[1;32m----> 3\u001B[0m \u001B[43mplt\u001B[49m\u001B[38;5;241;43m.\u001B[39;49m\u001B[43mscatter\u001B[49m\u001B[43m(\u001B[49m\u001B[43mdata\u001B[49m\u001B[43m[\u001B[49m\u001B[38;5;124;43m'\u001B[39;49m\u001B[38;5;124;43mage\u001B[39;49m\u001B[38;5;124;43m'\u001B[39;49m\u001B[43m]\u001B[49m\u001B[43m,\u001B[49m\u001B[43m \u001B[49m\u001B[43ms\u001B[49m\u001B[38;5;241;43m=\u001B[39;49m\u001B[38;5;241;43m1.5\u001B[39;49m\u001B[43m)\u001B[49m\n\u001B[0;32m      4\u001B[0m plt\u001B[38;5;241m.\u001B[39mscatter(data[\u001B[38;5;124m'\u001B[39m\u001B[38;5;124mbmi\u001B[39m\u001B[38;5;124m'\u001B[39m], s\u001B[38;5;241m=\u001B[39m\u001B[38;5;241m1.5\u001B[39m)\n\u001B[0;32m      5\u001B[0m plt\u001B[38;5;241m.\u001B[39mxticks(\u001B[38;5;28mrange\u001B[39m(\u001B[38;5;241m0\u001B[39m, \u001B[38;5;241m105\u001B[39m, \u001B[38;5;241m5\u001B[39m))\n",
      "\u001B[1;31mTypeError\u001B[0m: scatter() missing 1 required positional argument: 'y'"
     ]
    },
    {
     "data": {
      "text/plain": "<Figure size 600x600 with 1 Axes>",
      "image/png": "[encoded data removed]"
     },
     "metadata": {},
     "output_type": "display_data"
    }
   ],
   "source": [
    "plt.figure(figsize=(6, 6))\n",
    "plt.boxplot([data['age'], data['bmi']], labels=['age', 'bmi'], vert=False)\n",
    "plt.scatter(data['age'], s=1.5)\n",
    "plt.scatter(data['bmi'], s=1.5)\n",
    "plt.xticks(range(0, 105, 5))\n",
    "plt.grid()\n",
    "plt.show()"
   ],
   "metadata": {
    "collapsed": false,
    "ExecuteTime": {
     "end_time": "2023-10-17T09:06:52.829075400Z",
     "start_time": "2023-10-17T09:06:52.208127700Z"
    }
   }
  },
  {
   "cell_type": "markdown",
   "source": [
    "\n",
    "# Используя признак charges или imb, проверить, выполняется ли центральная предельная теорема.\n",
    "# Использовать различные длины выборок n. Количество выборок = 300.\n",
    "# Вывести результат в виде гистограмм. Найти стандартное отклонение и среднее для полученных распределений. Сделать выводы.\n"
   ],
   "metadata": {
    "collapsed": false
   }
  },
  {
   "cell_type": "code",
   "execution_count": null,
   "outputs": [],
   "source": [
    "num_samples = 300\n",
    "\n",
    "sample_sizes = [30, 50, 70, 100, 120, 150, 200, 250]\n",
    "\n",
    "fig, axes = plt.subplots(len(sample_sizes), 1, figsize=(8, 12), sharex=True)\n",
    "\n",
    "for i, n in enumerate(sample_sizes):\n",
    "    sample_means = []\n",
    "    for _ in range(num_samples):\n",
    "        sample = np.random.choice(data['charges'], size=n, replace=True)\n",
    "        sample_mean = np.mean(sample)\n",
    "        sample_means.append(sample_mean)\n",
    "    axes[i].hist(sample_means, bins=30, alpha=0.5)\n",
    "    axes[i].set_title(f'n = {n}')\n",
    "    axes[i].set_ylabel('Частота')\n",
    "\n",
    "plt.xlabel('Средние значения')\n",
    "\n",
    "means = [np.mean(sample_means[i:i + num_samples]) for i in range(0, len(sample_means), num_samples)]\n",
    "stds = [np.std(sample_means[i:i + num_samples]) for i in range(0, len(sample_means), num_samples)]\n",
    "\n",
    "print(f\"Средние значения средних значений выборок (charges):\")\n",
    "print(means)\n",
    "print(f\"Стандартные отклонения средних значений выборок charges):\")\n",
    "print(stds)\n",
    "\n",
    "plt.tight_layout()\n",
    "plt.show()"
   ],
   "metadata": {
    "collapsed": false,
    "ExecuteTime": {
     "start_time": "2023-10-17T09:06:52.274766400Z"
    }
   }
  },
  {
   "cell_type": "markdown",
   "source": [
    "# Построить 95% и 99% доверительный интервал для среднего значения расходов и среднего значения индекса массы тела"
   ],
   "metadata": {
    "collapsed": false
   }
  },
  {
   "cell_type": "code",
   "execution_count": null,
   "outputs": [],
   "source": [
    "selected_features = ['charges', 'bmi']\n",
    "\n",
    "confidence_levels = [0.95, 0.99]\n",
    "\n",
    "confidence_intervals = {}\n",
    "\n",
    "for feature in selected_features:\n",
    "    confidence_intervals[feature] = {}\n",
    "    for confidence_level in confidence_levels:\n",
    "        data_feature = data[feature]\n",
    "        n = len(data_feature)\n",
    "        mean = np.mean(data_feature)\n",
    "        std = np.std(data_feature)\n",
    "\n",
    "        z_score = stats.norm.ppf((1 + confidence_level) / 2)\n",
    "\n",
    "        margin_of_error = z_score * (std / np.sqrt(n))\n",
    "\n",
    "        lower_bound = mean - margin_of_error\n",
    "        upper_bound = mean + margin_of_error\n",
    "\n",
    "        confidence_intervals[feature][confidence_level] = (lower_bound, upper_bound)\n",
    "\n",
    "# Вывод результатов\n",
    "for feature, intervals in confidence_intervals.items():\n",
    "    print(f\"Доверительные интервалы для {feature}:\")\n",
    "    for confidence_level, interval in intervals.items():\n",
    "        print(f\"Для {confidence_level * 100}% доверительный интервал: ({interval[0]}, {interval[1]})\")\n",
    "    print()"
   ],
   "metadata": {
    "collapsed": false,
    "ExecuteTime": {
     "start_time": "2023-10-17T09:06:52.278299900Z"
    }
   }
  },
  {
   "cell_type": "markdown",
   "source": [
    "# Проверить распределения следующих признаков на нормальность: индекс массы тела, расходы.\n",
    "# Сформулировать нулевую и альтернативную гипотезы. Для каждого признака использовать KS-тест и q-q plot.\n",
    "# Сделать выводы на основе полученных p-значений."
   ],
   "metadata": {
    "collapsed": false
   }
  },
  {
   "cell_type": "code",
   "execution_count": null,
   "outputs": [],
   "source": [
    "import statsmodels.api as sm\n",
    "\n",
    "selected_features = ['bmi', 'charges']\n",
    "\n",
    "alpha = 0.05\n",
    "\n",
    "for feature in selected_features:\n",
    "    ks_statistic, ks_p_value = stats.kstest(data[feature], 'norm', (data[feature].mean(), data[feature].std()))\n",
    "\n",
    "    plt.figure(figsize=(12, 8))\n",
    "    sm.qqplot(data[feature], line='s')\n",
    "    plt.title(f'Q-Q график для {feature}')\n",
    "    plt.xlabel('Теоретические квантили')\n",
    "    plt.ylabel('Эмпирические квантили')\n",
    "\n",
    "    print(f'KS-тест для {feature}:')\n",
    "    print(f'KS-статистика: {ks_statistic}')\n",
    "    print(f'p-значение: {ks_p_value}')\n",
    "\n",
    "    if ks_p_value > alpha:\n",
    "        print(f'Распределение {feature} можно считать нормальным (не отвергаем H0)')\n",
    "    else:\n",
    "        print(f'Распределение {feature} не является нормальным (отвергаем H0)')\n",
    "\n",
    "    plt.show()"
   ],
   "metadata": {
    "collapsed": false,
    "ExecuteTime": {
     "start_time": "2023-10-17T09:06:52.280302300Z"
    }
   }
  },
  {
   "cell_type": "markdown",
   "source": [
    "# Загрузить данные из файла “ECDCCases.csv”."
   ],
   "metadata": {
    "collapsed": false
   }
  },
  {
   "cell_type": "code",
   "execution_count": 41,
   "outputs": [
    {
     "data": {
      "text/plain": "          dateRep  day  month  year  cases  deaths countriesAndTerritories   \n0      14/12/2020   14     12  2020    746       6             Afghanistan  \\\n1      13/12/2020   13     12  2020    298       9             Afghanistan   \n2      12/12/2020   12     12  2020    113      11             Afghanistan   \n3      12/12/2020   12     12  2020    113      11             Afghanistan   \n4      11/12/2020   11     12  2020     63      10             Afghanistan   \n...           ...  ...    ...   ...    ...     ...                     ...   \n61899  25/03/2020   25      3  2020      0       0                Zimbabwe   \n61900  24/03/2020   24      3  2020      0       1                Zimbabwe   \n61901  23/03/2020   23      3  2020      0       0                Zimbabwe   \n61902  22/03/2020   22      3  2020      1       0                Zimbabwe   \n61903  21/03/2020   21      3  2020      1       0                Zimbabwe   \n\n      geoId countryterritoryCode  popData2019 continentExp   \n0        AF                  AFG   38041757.0         Asia  \\\n1        AF                  AFG   38041757.0         Asia   \n2        AF                  AFG   38041757.0         Asia   \n3        AF                  AFG   38041757.0         Asia   \n4        AF                  AFG   38041757.0         Asia   \n...     ...                  ...          ...          ...   \n61899    ZW                  ZWE   14645473.0       Africa   \n61900    ZW                  ZWE   14645473.0       Africa   \n61901    ZW                  ZWE   14645473.0       Africa   \n61902    ZW                  ZWE   14645473.0       Africa   \n61903    ZW                  ZWE   14645473.0       Africa   \n\n       Cumulative_number_for_14_days_of_COVID-19_cases_per_100000  \n0                                               9.013779           \n1                                               7.052776           \n2                                               6.868768           \n3                                               6.868768           \n4                                               7.134266           \n...                                                  ...           \n61899                                                NaN           \n61900                                                NaN           \n61901                                                NaN           \n61902                                                NaN           \n61903                                                NaN           \n\n[61904 rows x 12 columns]",
      "text/html": "<div>\n<style scoped>\n    .dataframe tbody tr th:only-of-type {\n        vertical-align: middle;\n    }\n\n    .dataframe tbody tr th {\n        vertical-align: top;\n    }\n\n    .dataframe thead th {\n        text-align: right;\n    }\n</style>\n<table border=\"1\" class=\"dataframe\">\n  <thead>\n    <tr style=\"text-align: right;\">\n      <th></th>\n      <th>dateRep</th>\n      <th>day</th>\n      <th>month</th>\n      <th>year</th>\n      <th>cases</th>\n      <th>deaths</th>\n      <th>countriesAndTerritories</th>\n      <th>geoId</th>\n      <th>countryterritoryCode</th>\n      <th>popData2019</th>\n      <th>continentExp</th>\n      <th>Cumulative_number_for_14_days_of_COVID-19_cases_per_100000</th>\n    </tr>\n  </thead>\n  <tbody>\n    <tr>\n      <th>0</th>\n      <td>14/12/2020</td>\n      <td>14</td>\n      <td>12</td>\n      <td>2020</td>\n      <td>746</td>\n      <td>6</td>\n      <td>Afghanistan</td>\n      <td>AF</td>\n      <td>AFG</td>\n      <td>38041757.0</td>\n      <td>Asia</td>\n      <td>9.013779</td>\n    </tr>\n    <tr>\n      <th>1</th>\n      <td>13/12/2020</td>\n      <td>13</td>\n      <td>12</td>\n      <td>2020</td>\n      <td>298</td>\n      <td>9</td>\n      <td>Afghanistan</td>\n      <td>AF</td>\n      <td>AFG</td>\n      <td>38041757.0</td>\n      <td>Asia</td>\n      <td>7.052776</td>\n    </tr>\n    <tr>\n      <th>2</th>\n      <td>12/12/2020</td>\n      <td>12</td>\n      <td>12</td>\n      <td>2020</td>\n      <td>113</td>\n      <td>11</td>\n      <td>Afghanistan</td>\n      <td>AF</td>\n      <td>AFG</td>\n      <td>38041757.0</td>\n      <td>Asia</td>\n      <td>6.868768</td>\n    </tr>\n    <tr>\n      <th>3</th>\n      <td>12/12/2020</td>\n      <td>12</td>\n      <td>12</td>\n      <td>2020</td>\n      <td>113</td>\n      <td>11</td>\n      <td>Afghanistan</td>\n      <td>AF</td>\n      <td>AFG</td>\n      <td>38041757.0</td>\n      <td>Asia</td>\n      <td>6.868768</td>\n    </tr>\n    <tr>\n      <th>4</th>\n      <td>11/12/2020</td>\n      <td>11</td>\n      <td>12</td>\n      <td>2020</td>\n      <td>63</td>\n      <td>10</td>\n      <td>Afghanistan</td>\n      <td>AF</td>\n      <td>AFG</td>\n      <td>38041757.0</td>\n      <td>Asia</td>\n      <td>7.134266</td>\n    </tr>\n    <tr>\n      <th>...</th>\n      <td>...</td>\n      <td>...</td>\n      <td>...</td>\n      <td>...</td>\n      <td>...</td>\n      <td>...</td>\n      <td>...</td>\n      <td>...</td>\n      <td>...</td>\n      <td>...</td>\n      <td>...</td>\n      <td>...</td>\n    </tr>\n    <tr>\n      <th>61899</th>\n      <td>25/03/2020</td>\n      <td>25</td>\n      <td>3</td>\n      <td>2020</td>\n      <td>0</td>\n      <td>0</td>\n      <td>Zimbabwe</td>\n      <td>ZW</td>\n      <td>ZWE</td>\n      <td>14645473.0</td>\n      <td>Africa</td>\n      <td>NaN</td>\n    </tr>\n    <tr>\n      <th>61900</th>\n      <td>24/03/2020</td>\n      <td>24</td>\n      <td>3</td>\n      <td>2020</td>\n      <td>0</td>\n      <td>1</td>\n      <td>Zimbabwe</td>\n      <td>ZW</td>\n      <td>ZWE</td>\n      <td>14645473.0</td>\n      <td>Africa</td>\n      <td>NaN</td>\n    </tr>\n    <tr>\n      <th>61901</th>\n      <td>23/03/2020</td>\n      <td>23</td>\n      <td>3</td>\n      <td>2020</td>\n      <td>0</td>\n      <td>0</td>\n      <td>Zimbabwe</td>\n      <td>ZW</td>\n      <td>ZWE</td>\n      <td>14645473.0</td>\n      <td>Africa</td>\n      <td>NaN</td>\n    </tr>\n    <tr>\n      <th>61902</th>\n      <td>22/03/2020</td>\n      <td>22</td>\n      <td>3</td>\n      <td>2020</td>\n      <td>1</td>\n      <td>0</td>\n      <td>Zimbabwe</td>\n      <td>ZW</td>\n      <td>ZWE</td>\n      <td>14645473.0</td>\n      <td>Africa</td>\n      <td>NaN</td>\n    </tr>\n    <tr>\n      <th>61903</th>\n      <td>21/03/2020</td>\n      <td>21</td>\n      <td>3</td>\n      <td>2020</td>\n      <td>1</td>\n      <td>0</td>\n      <td>Zimbabwe</td>\n      <td>ZW</td>\n      <td>ZWE</td>\n      <td>14645473.0</td>\n      <td>Africa</td>\n      <td>NaN</td>\n    </tr>\n  </tbody>\n</table>\n<p>61904 rows × 12 columns</p>\n</div>"
     },
     "execution_count": 41,
     "metadata": {},
     "output_type": "execute_result"
    }
   ],
   "source": [
    "ecdcc_data = pd.read_csv('ECDCCases.csv')\n",
    "ecdcc_data"
   ],
   "metadata": {
    "collapsed": false,
    "ExecuteTime": {
     "end_time": "2023-10-17T09:07:01.436991200Z",
     "start_time": "2023-10-17T09:07:01.349087400Z"
    }
   }
  },
  {
   "cell_type": "code",
   "execution_count": 42,
   "outputs": [
    {
     "name": "stdout",
     "output_type": "stream",
     "text": [
      "<class 'pandas.core.frame.DataFrame'>\n",
      "RangeIndex: 61904 entries, 0 to 61903\n",
      "Data columns (total 12 columns):\n",
      " #   Column                                                      Non-Null Count  Dtype  \n",
      "---  ------                                                      --------------  -----  \n",
      " 0   dateRep                                                     61904 non-null  object \n",
      " 1   day                                                         61904 non-null  int64  \n",
      " 2   month                                                       61904 non-null  int64  \n",
      " 3   year                                                        61904 non-null  int64  \n",
      " 4   cases                                                       61904 non-null  int64  \n",
      " 5   deaths                                                      61904 non-null  int64  \n",
      " 6   countriesAndTerritories                                     61904 non-null  object \n",
      " 7   geoId                                                       61629 non-null  object \n",
      " 8   countryterritoryCode                                        61781 non-null  object \n",
      " 9   popData2019                                                 61781 non-null  float64\n",
      " 10  continentExp                                                61904 non-null  object \n",
      " 11  Cumulative_number_for_14_days_of_COVID-19_cases_per_100000  59025 non-null  float64\n",
      "dtypes: float64(2), int64(5), object(5)\n",
      "memory usage: 5.7+ MB\n"
     ]
    }
   ],
   "source": [
    "ecdcc_data.info()"
   ],
   "metadata": {
    "collapsed": false,
    "ExecuteTime": {
     "end_time": "2023-10-17T09:07:02.046144300Z",
     "start_time": "2023-10-17T09:07:01.979956400Z"
    }
   }
  },
  {
   "cell_type": "markdown",
   "source": [
    "# Проверить в данных наличие пропущенных значений.\n",
    "# Вывести количество пропущенных значений в процентах."
   ],
   "metadata": {
    "collapsed": false
   }
  },
  {
   "cell_type": "code",
   "execution_count": 43,
   "outputs": [
    {
     "name": "stdout",
     "output_type": "stream",
     "text": [
      "Процент пропущенных значений по каждому признаку:\n"
     ]
    },
    {
     "data": {
      "text/plain": "dateRep                                                       0.000000\nday                                                           0.000000\nmonth                                                         0.000000\nyear                                                          0.000000\ncases                                                         0.000000\ndeaths                                                        0.000000\ncountriesAndTerritories                                       0.000000\ngeoId                                                         0.444236\ncountryterritoryCode                                          0.198695\npopData2019                                                   0.198695\ncontinentExp                                                  0.000000\nCumulative_number_for_14_days_of_COVID-19_cases_per_100000    4.650750\ndtype: float64"
     },
     "execution_count": 43,
     "metadata": {},
     "output_type": "execute_result"
    }
   ],
   "source": [
    "missing_percentage = (ecdcc_data.isnull().sum() / len(ecdcc_data)) * 100\n",
    "print(\"Процент пропущенных значений по каждому признаку:\")\n",
    "missing_percentage"
   ],
   "metadata": {
    "collapsed": false,
    "ExecuteTime": {
     "end_time": "2023-10-17T09:07:02.970812Z",
     "start_time": "2023-10-17T09:07:02.950775600Z"
    }
   }
  },
  {
   "cell_type": "markdown",
   "source": [
    "# Удалить два признака, в которых больше всех пропущенных значений"
   ],
   "metadata": {
    "collapsed": false
   }
  },
  {
   "cell_type": "code",
   "execution_count": 44,
   "outputs": [
    {
     "data": {
      "text/plain": "Index(['Cumulative_number_for_14_days_of_COVID-19_cases_per_100000', 'geoId'], dtype='object')"
     },
     "execution_count": 44,
     "metadata": {},
     "output_type": "execute_result"
    }
   ],
   "source": [
    "columns_to_drop = missing_percentage.nlargest(2).index\n",
    "\n",
    "ecdcc_data.drop(columns=columns_to_drop, inplace=True)\n",
    "columns_to_drop"
   ],
   "metadata": {
    "collapsed": false,
    "ExecuteTime": {
     "end_time": "2023-10-17T09:07:03.361295900Z",
     "start_time": "2023-10-17T09:07:03.339142300Z"
    }
   }
  },
  {
   "cell_type": "markdown",
   "source": [
    "# Для оставшихся признаков обработать пропуски: для категориального признака использовать заполнение значением по умолчанию\n",
    "# (например, «other»), для числового признака использовать заполнение медианным значением. Показать, что пропусков больше в данных нет"
   ],
   "metadata": {
    "collapsed": false
   }
  },
  {
   "cell_type": "code",
   "execution_count": 45,
   "outputs": [
    {
     "data": {
      "text/plain": "          dateRep  day  month  year  cases  deaths countriesAndTerritories   \n0      14/12/2020   14     12  2020    746       6             Afghanistan  \\\n1      13/12/2020   13     12  2020    298       9             Afghanistan   \n2      12/12/2020   12     12  2020    113      11             Afghanistan   \n3      12/12/2020   12     12  2020    113      11             Afghanistan   \n4      11/12/2020   11     12  2020     63      10             Afghanistan   \n...           ...  ...    ...   ...    ...     ...                     ...   \n61899  25/03/2020   25      3  2020      0       0                Zimbabwe   \n61900  24/03/2020   24      3  2020      0       1                Zimbabwe   \n61901  23/03/2020   23      3  2020      0       0                Zimbabwe   \n61902  22/03/2020   22      3  2020      1       0                Zimbabwe   \n61903  21/03/2020   21      3  2020      1       0                Zimbabwe   \n\n      countryterritoryCode  popData2019 continentExp  \n0                      AFG   38041757.0         Asia  \n1                      AFG   38041757.0         Asia  \n2                      AFG   38041757.0         Asia  \n3                      AFG   38041757.0         Asia  \n4                      AFG   38041757.0         Asia  \n...                    ...          ...          ...  \n61899                  ZWE   14645473.0       Africa  \n61900                  ZWE   14645473.0       Africa  \n61901                  ZWE   14645473.0       Africa  \n61902                  ZWE   14645473.0       Africa  \n61903                  ZWE   14645473.0       Africa  \n\n[61904 rows x 10 columns]",
      "text/html": "<div>\n<style scoped>\n    .dataframe tbody tr th:only-of-type {\n        vertical-align: middle;\n    }\n\n    .dataframe tbody tr th {\n        vertical-align: top;\n    }\n\n    .dataframe thead th {\n        text-align: right;\n    }\n</style>\n<table border=\"1\" class=\"dataframe\">\n  <thead>\n    <tr style=\"text-align: right;\">\n      <th></th>\n      <th>dateRep</th>\n      <th>day</th>\n      <th>month</th>\n      <th>year</th>\n      <th>cases</th>\n      <th>deaths</th>\n      <th>countriesAndTerritories</th>\n      <th>countryterritoryCode</th>\n      <th>popData2019</th>\n      <th>continentExp</th>\n    </tr>\n  </thead>\n  <tbody>\n    <tr>\n      <th>0</th>\n      <td>14/12/2020</td>\n      <td>14</td>\n      <td>12</td>\n      <td>2020</td>\n      <td>746</td>\n      <td>6</td>\n      <td>Afghanistan</td>\n      <td>AFG</td>\n      <td>38041757.0</td>\n      <td>Asia</td>\n    </tr>\n    <tr>\n      <th>1</th>\n      <td>13/12/2020</td>\n      <td>13</td>\n      <td>12</td>\n      <td>2020</td>\n      <td>298</td>\n      <td>9</td>\n      <td>Afghanistan</td>\n      <td>AFG</td>\n      <td>38041757.0</td>\n      <td>Asia</td>\n    </tr>\n    <tr>\n      <th>2</th>\n      <td>12/12/2020</td>\n      <td>12</td>\n      <td>12</td>\n      <td>2020</td>\n      <td>113</td>\n      <td>11</td>\n      <td>Afghanistan</td>\n      <td>AFG</td>\n      <td>38041757.0</td>\n      <td>Asia</td>\n    </tr>\n    <tr>\n      <th>3</th>\n      <td>12/12/2020</td>\n      <td>12</td>\n      <td>12</td>\n      <td>2020</td>\n      <td>113</td>\n      <td>11</td>\n      <td>Afghanistan</td>\n      <td>AFG</td>\n      <td>38041757.0</td>\n      <td>Asia</td>\n    </tr>\n    <tr>\n      <th>4</th>\n      <td>11/12/2020</td>\n      <td>11</td>\n      <td>12</td>\n      <td>2020</td>\n      <td>63</td>\n      <td>10</td>\n      <td>Afghanistan</td>\n      <td>AFG</td>\n      <td>38041757.0</td>\n      <td>Asia</td>\n    </tr>\n    <tr>\n      <th>...</th>\n      <td>...</td>\n      <td>...</td>\n      <td>...</td>\n      <td>...</td>\n      <td>...</td>\n      <td>...</td>\n      <td>...</td>\n      <td>...</td>\n      <td>...</td>\n      <td>...</td>\n    </tr>\n    <tr>\n      <th>61899</th>\n      <td>25/03/2020</td>\n      <td>25</td>\n      <td>3</td>\n      <td>2020</td>\n      <td>0</td>\n      <td>0</td>\n      <td>Zimbabwe</td>\n      <td>ZWE</td>\n      <td>14645473.0</td>\n      <td>Africa</td>\n    </tr>\n    <tr>\n      <th>61900</th>\n      <td>24/03/2020</td>\n      <td>24</td>\n      <td>3</td>\n      <td>2020</td>\n      <td>0</td>\n      <td>1</td>\n      <td>Zimbabwe</td>\n      <td>ZWE</td>\n      <td>14645473.0</td>\n      <td>Africa</td>\n    </tr>\n    <tr>\n      <th>61901</th>\n      <td>23/03/2020</td>\n      <td>23</td>\n      <td>3</td>\n      <td>2020</td>\n      <td>0</td>\n      <td>0</td>\n      <td>Zimbabwe</td>\n      <td>ZWE</td>\n      <td>14645473.0</td>\n      <td>Africa</td>\n    </tr>\n    <tr>\n      <th>61902</th>\n      <td>22/03/2020</td>\n      <td>22</td>\n      <td>3</td>\n      <td>2020</td>\n      <td>1</td>\n      <td>0</td>\n      <td>Zimbabwe</td>\n      <td>ZWE</td>\n      <td>14645473.0</td>\n      <td>Africa</td>\n    </tr>\n    <tr>\n      <th>61903</th>\n      <td>21/03/2020</td>\n      <td>21</td>\n      <td>3</td>\n      <td>2020</td>\n      <td>1</td>\n      <td>0</td>\n      <td>Zimbabwe</td>\n      <td>ZWE</td>\n      <td>14645473.0</td>\n      <td>Africa</td>\n    </tr>\n  </tbody>\n</table>\n<p>61904 rows × 10 columns</p>\n</div>"
     },
     "execution_count": 45,
     "metadata": {},
     "output_type": "execute_result"
    }
   ],
   "source": [
    "categorical_columns = ecdcc_data.select_dtypes(include=['object']).columns\n",
    "ecdcc_data[categorical_columns] = ecdcc_data[categorical_columns].fillna('other')\n",
    "\n",
    "numeric_columns = ecdcc_data.select_dtypes(include=['int', 'float']).columns\n",
    "ecdcc_data[numeric_columns] = ecdcc_data[numeric_columns].fillna(ecdcc_data[numeric_columns].median())\n",
    "ecdcc_data\n"
   ],
   "metadata": {
    "collapsed": false,
    "ExecuteTime": {
     "end_time": "2023-10-17T09:07:03.750969500Z",
     "start_time": "2023-10-17T09:07:03.706806900Z"
    }
   }
  },
  {
   "cell_type": "markdown",
   "source": [
    "# Показать, что пропусков больше в данных нет."
   ],
   "metadata": {
    "collapsed": false
   }
  },
  {
   "cell_type": "code",
   "execution_count": 46,
   "outputs": [
    {
     "name": "stdout",
     "output_type": "stream",
     "text": [
      "Процент пропущенных значений по каждому признаку:\n"
     ]
    },
    {
     "data": {
      "text/plain": "dateRep                    0.0\nday                        0.0\nmonth                      0.0\nyear                       0.0\ncases                      0.0\ndeaths                     0.0\ncountriesAndTerritories    0.0\ncountryterritoryCode       0.0\npopData2019                0.0\ncontinentExp               0.0\ndtype: float64"
     },
     "execution_count": 46,
     "metadata": {},
     "output_type": "execute_result"
    }
   ],
   "source": [
    "missing_percentage = (ecdcc_data.isnull().sum() / len(ecdcc_data)) * 100\n",
    "print(\"Процент пропущенных значений по каждому признаку:\")\n",
    "missing_percentage"
   ],
   "metadata": {
    "collapsed": false,
    "ExecuteTime": {
     "end_time": "2023-10-17T09:07:04.115993Z",
     "start_time": "2023-10-17T09:07:04.067140800Z"
    }
   }
  },
  {
   "cell_type": "code",
   "execution_count": 47,
   "outputs": [
    {
     "name": "stdout",
     "output_type": "stream",
     "text": [
      "Пропусков больше нет:\n",
      "0\n"
     ]
    }
   ],
   "source": [
    "print(\"Пропусков больше нет:\")\n",
    "print(ecdcc_data.isnull().sum().sum())"
   ],
   "metadata": {
    "collapsed": false,
    "ExecuteTime": {
     "end_time": "2023-10-17T09:07:04.270385100Z",
     "start_time": "2023-10-17T09:07:04.239110800Z"
    }
   }
  },
  {
   "cell_type": "markdown",
   "source": [
    "# Посмотреть статистику по данным, используя describe()."
   ],
   "metadata": {
    "collapsed": false
   }
  },
  {
   "cell_type": "code",
   "execution_count": 48,
   "outputs": [
    {
     "data": {
      "text/plain": "                day         month          year          cases        deaths   \ncount  61904.000000  61904.000000  61904.000000   61904.000000  61904.000000  \\\nmean      15.629232      7.067104   2019.998918    1155.079026     26.053987   \nstd        8.841624      2.954816      0.032881    6779.010824    131.222948   \nmin        1.000000      1.000000   2019.000000   -8261.000000  -1918.000000   \n25%        8.000000      5.000000   2020.000000       0.000000      0.000000   \n50%       15.000000      7.000000   2020.000000      15.000000      0.000000   \n75%       23.000000     10.000000   2020.000000     273.000000      4.000000   \nmax       31.000000     12.000000   2020.000000  234633.000000   4928.000000   \n\n        popData2019  \ncount  6.190400e+04  \nmean   4.091909e+07  \nstd    1.529798e+08  \nmin    8.150000e+02  \n25%    1.324820e+06  \n50%    7.169456e+06  \n75%    2.851583e+07  \nmax    1.433784e+09  ",
      "text/html": "<div>\n<style scoped>\n    .dataframe tbody tr th:only-of-type {\n        vertical-align: middle;\n    }\n\n    .dataframe tbody tr th {\n        vertical-align: top;\n    }\n\n    .dataframe thead th {\n        text-align: right;\n    }\n</style>\n<table border=\"1\" class=\"dataframe\">\n  <thead>\n    <tr style=\"text-align: right;\">\n      <th></th>\n      <th>day</th>\n      <th>month</th>\n      <th>year</th>\n      <th>cases</th>\n      <th>deaths</th>\n      <th>popData2019</th>\n    </tr>\n  </thead>\n  <tbody>\n    <tr>\n      <th>count</th>\n      <td>61904.000000</td>\n      <td>61904.000000</td>\n      <td>61904.000000</td>\n      <td>61904.000000</td>\n      <td>61904.000000</td>\n      <td>6.190400e+04</td>\n    </tr>\n    <tr>\n      <th>mean</th>\n      <td>15.629232</td>\n      <td>7.067104</td>\n      <td>2019.998918</td>\n      <td>1155.079026</td>\n      <td>26.053987</td>\n      <td>4.091909e+07</td>\n    </tr>\n    <tr>\n      <th>std</th>\n      <td>8.841624</td>\n      <td>2.954816</td>\n      <td>0.032881</td>\n      <td>6779.010824</td>\n      <td>131.222948</td>\n      <td>1.529798e+08</td>\n    </tr>\n    <tr>\n      <th>min</th>\n      <td>1.000000</td>\n      <td>1.000000</td>\n      <td>2019.000000</td>\n      <td>-8261.000000</td>\n      <td>-1918.000000</td>\n      <td>8.150000e+02</td>\n    </tr>\n    <tr>\n      <th>25%</th>\n      <td>8.000000</td>\n      <td>5.000000</td>\n      <td>2020.000000</td>\n      <td>0.000000</td>\n      <td>0.000000</td>\n      <td>1.324820e+06</td>\n    </tr>\n    <tr>\n      <th>50%</th>\n      <td>15.000000</td>\n      <td>7.000000</td>\n      <td>2020.000000</td>\n      <td>15.000000</td>\n      <td>0.000000</td>\n      <td>7.169456e+06</td>\n    </tr>\n    <tr>\n      <th>75%</th>\n      <td>23.000000</td>\n      <td>10.000000</td>\n      <td>2020.000000</td>\n      <td>273.000000</td>\n      <td>4.000000</td>\n      <td>2.851583e+07</td>\n    </tr>\n    <tr>\n      <th>max</th>\n      <td>31.000000</td>\n      <td>12.000000</td>\n      <td>2020.000000</td>\n      <td>234633.000000</td>\n      <td>4928.000000</td>\n      <td>1.433784e+09</td>\n    </tr>\n  </tbody>\n</table>\n</div>"
     },
     "execution_count": 48,
     "metadata": {},
     "output_type": "execute_result"
    }
   ],
   "source": [
    "data_description = ecdcc_data.describe()\n",
    "data_description"
   ],
   "metadata": {
    "collapsed": false,
    "ExecuteTime": {
     "end_time": "2023-10-17T09:07:04.597620400Z",
     "start_time": "2023-10-17T09:07:04.560288200Z"
    }
   }
  },
  {
   "cell_type": "markdown",
   "source": [
    "# Сделать выводы о том, какие признаки содержат выбросы."
   ],
   "metadata": {
    "collapsed": false
   }
  },
  {
   "cell_type": "code",
   "execution_count": 49,
   "outputs": [
    {
     "name": "stdout",
     "output_type": "stream",
     "text": [
      "Выбросы для признака 'day':\n",
      "Empty DataFrame\n",
      "Columns: [dateRep, day, month, year, cases, deaths, countriesAndTerritories, countryterritoryCode, popData2019, continentExp]\n",
      "Index: []\n",
      "Выбросы для признака 'month':\n",
      "Empty DataFrame\n",
      "Columns: [dateRep, day, month, year, cases, deaths, countriesAndTerritories, countryterritoryCode, popData2019, continentExp]\n",
      "Index: []\n",
      "Выбросы для признака 'year':\n",
      "          dateRep  day  month  year  cases  deaths   countriesAndTerritories   \n",
      "341    31/12/2019   31     12  2019      0       0               Afghanistan  \\\n",
      "967    31/12/2019   31     12  2019      0       0                   Algeria   \n",
      "2668   31/12/2019   31     12  2019      0       0                   Armenia   \n",
      "3285   31/12/2019   31     12  2019      0       0                 Australia   \n",
      "3635   31/12/2019   31     12  2019      0       0                   Austria   \n",
      "...           ...  ...    ...   ...    ...     ...                       ...   \n",
      "55850  31/12/2019   31     12  2019      0       0                  Thailand   \n",
      "58381  31/12/2019   31     12  2019      0       0      United_Arab_Emirates   \n",
      "58731  31/12/2019   31     12  2019      0       0            United_Kingdom   \n",
      "59354  31/12/2019   31     12  2019      0       0  United_States_of_America   \n",
      "60822  31/12/2019   31     12  2019      0       0                   Vietnam   \n",
      "\n",
      "      countryterritoryCode  popData2019 continentExp  \n",
      "341                    AFG   38041757.0         Asia  \n",
      "967                    DZA   43053054.0       Africa  \n",
      "2668                   ARM    2957728.0       Europe  \n",
      "3285                   AUS   25203200.0      Oceania  \n",
      "3635                   AUT    8858775.0       Europe  \n",
      "...                    ...          ...          ...  \n",
      "55850                  THA   69625581.0         Asia  \n",
      "58381                  ARE    9770526.0         Asia  \n",
      "58731                  GBR   66647112.0       Europe  \n",
      "59354                  USA  329064917.0      America  \n",
      "60822                  VNM   96462108.0         Asia  \n",
      "\n",
      "[67 rows x 10 columns]\n",
      "Выбросы для признака 'cases':\n",
      "          dateRep  day  month  year  cases  deaths countriesAndTerritories   \n",
      "0      14/12/2020   14     12  2020    746       6             Afghanistan  \\\n",
      "181    17/06/2020   17      6  2020    783      13             Afghanistan   \n",
      "182    16/06/2020   16      6  2020    761       7             Afghanistan   \n",
      "186    12/06/2020   12      6  2020    747      21             Afghanistan   \n",
      "187    11/06/2020   11      6  2020    684      21             Afghanistan   \n",
      "...           ...  ...    ...   ...    ...     ...                     ...   \n",
      "60337  02/08/2020    2      8  2020    869       5               Venezuela   \n",
      "60338  01/08/2020    1      8  2020    715       6               Venezuela   \n",
      "60339  31/07/2020   31      7  2020   1288       7               Venezuela   \n",
      "60343  27/07/2020   27      7  2020   1200       8               Venezuela   \n",
      "60346  24/07/2020   24      7  2020    839       9               Venezuela   \n",
      "\n",
      "      countryterritoryCode  popData2019 continentExp  \n",
      "0                      AFG   38041757.0         Asia  \n",
      "181                    AFG   38041757.0         Asia  \n",
      "182                    AFG   38041757.0         Asia  \n",
      "186                    AFG   38041757.0         Asia  \n",
      "187                    AFG   38041757.0         Asia  \n",
      "...                    ...          ...          ...  \n",
      "60337                  VEN   28515829.0      America  \n",
      "60338                  VEN   28515829.0      America  \n",
      "60339                  VEN   28515829.0      America  \n",
      "60343                  VEN   28515829.0      America  \n",
      "60346                  VEN   28515829.0      America  \n",
      "\n",
      "[10080 rows x 10 columns]\n",
      "Выбросы для признака 'deaths':\n",
      "          dateRep  day  month  year  cases  deaths countriesAndTerritories   \n",
      "2      12/12/2020   12     12  2020    113      11             Afghanistan  \\\n",
      "3      12/12/2020   12     12  2020    113      11             Afghanistan   \n",
      "5      10/12/2020   10     12  2020    202      16             Afghanistan   \n",
      "6      09/12/2020    9     12  2020    135      13             Afghanistan   \n",
      "8      07/12/2020    7     12  2020    210      26             Afghanistan   \n",
      "...           ...  ...    ...   ...    ...     ...                     ...   \n",
      "61745  26/08/2020   26      8  2020    126      11                Zimbabwe   \n",
      "61758  13/08/2020   13      8  2020     75      18                Zimbabwe   \n",
      "61764  07/08/2020    7      8  2020     56      13                Zimbabwe   \n",
      "61770  01/08/2020    1      8  2020     77      14                Zimbabwe   \n",
      "61771  31/07/2020   31      7  2020    213      12                Zimbabwe   \n",
      "\n",
      "      countryterritoryCode  popData2019 continentExp  \n",
      "2                      AFG   38041757.0         Asia  \n",
      "3                      AFG   38041757.0         Asia  \n",
      "5                      AFG   38041757.0         Asia  \n",
      "6                      AFG   38041757.0         Asia  \n",
      "8                      AFG   38041757.0         Asia  \n",
      "...                    ...          ...          ...  \n",
      "61745                  ZWE   14645473.0       Africa  \n",
      "61758                  ZWE   14645473.0       Africa  \n",
      "61764                  ZWE   14645473.0       Africa  \n",
      "61770                  ZWE   14645473.0       Africa  \n",
      "61771                  ZWE   14645473.0       Africa  \n",
      "\n",
      "[10657 rows x 10 columns]\n",
      "Выбросы для признака 'popData2019':\n",
      "          dateRep  day  month  year  cases  deaths countriesAndTerritories   \n",
      "4600   14/12/2020   14     12  2020   1355      32              Bangladesh  \\\n",
      "4601   13/12/2020   13     12  2020   1329      34              Bangladesh   \n",
      "4602   12/12/2020   12     12  2020   1884      19              Bangladesh   \n",
      "4603   11/12/2020   11     12  2020   1861      37              Bangladesh   \n",
      "4604   10/12/2020   10     12  2020   2159      24              Bangladesh   \n",
      "...           ...  ...    ...   ...    ...     ...                     ...   \n",
      "60818  04/01/2020    4      1  2020      0       0                 Vietnam   \n",
      "60819  03/01/2020    3      1  2020      0       0                 Vietnam   \n",
      "60820  02/01/2020    2      1  2020      0       0                 Vietnam   \n",
      "60821  01/01/2020    1      1  2020      0       0                 Vietnam   \n",
      "60822  31/12/2019   31     12  2019      0       0                 Vietnam   \n",
      "\n",
      "      countryterritoryCode  popData2019 continentExp  \n",
      "4600                   BGD  163046173.0         Asia  \n",
      "4601                   BGD  163046173.0         Asia  \n",
      "4602                   BGD  163046173.0         Asia  \n",
      "4603                   BGD  163046173.0         Asia  \n",
      "4604                   BGD  163046173.0         Asia  \n",
      "...                    ...          ...          ...  \n",
      "60818                  VNM   96462108.0         Asia  \n",
      "60819                  VNM   96462108.0         Asia  \n",
      "60820                  VNM   96462108.0         Asia  \n",
      "60821                  VNM   96462108.0         Asia  \n",
      "60822                  VNM   96462108.0         Asia  \n",
      "\n",
      "[6661 rows x 10 columns]\n"
     ]
    }
   ],
   "source": [
    "numeric_features = ecdcc_data.select_dtypes(include=['int', 'float'])\n",
    "\n",
    "outliers = {}\n",
    "for feature in numeric_features.columns:\n",
    "    Q1 = data_description.loc['25%'][feature]\n",
    "    Q3 = data_description.loc['75%'][feature]\n",
    "    IQR = Q3 - Q1\n",
    "    lower_bound = Q1 - 1.5 * IQR\n",
    "    upper_bound = Q3 + 1.5 * IQR\n",
    "    feature_outliers = ecdcc_data[(ecdcc_data[feature] < lower_bound) | (ecdcc_data[feature] > upper_bound)]\n",
    "    outliers[feature] = feature_outliers\n",
    "\n",
    "for feature, outlier_df in outliers.items():\n",
    "    print(f\"Выбросы для признака '{feature}':\")\n",
    "    print(outlier_df)"
   ],
   "metadata": {
    "collapsed": false,
    "ExecuteTime": {
     "end_time": "2023-10-17T09:07:04.965040400Z",
     "start_time": "2023-10-17T09:07:04.904938700Z"
    }
   }
  },
  {
   "cell_type": "markdown",
   "source": [
    "# Посмотреть, для каких стран количество смертей в день превысило 3000 и сколько таких дней было."
   ],
   "metadata": {
    "collapsed": false
   }
  },
  {
   "cell_type": "code",
   "execution_count": 50,
   "outputs": [
    {
     "name": "stdout",
     "output_type": "stream",
     "text": [
      "Количество дней с количеством смертей в день более 3000: 11\n"
     ]
    }
   ],
   "source": [
    "high_death_countries = ecdcc_data[ecdcc_data['deaths'] > 3000]\n",
    "num_days_with_high_death = len(high_death_countries)\n",
    "print(f\"Количество дней с количеством смертей в день более 3000: {num_days_with_high_death}\")"
   ],
   "metadata": {
    "collapsed": false,
    "ExecuteTime": {
     "end_time": "2023-10-17T09:07:05.278395Z",
     "start_time": "2023-10-17T09:07:05.266123500Z"
    }
   }
  },
  {
   "cell_type": "code",
   "execution_count": 51,
   "outputs": [
    {
     "data": {
      "text/plain": "          dateRep  day  month  year   cases  deaths   countriesAndTerritories   \n2118   02/10/2020    2     10  2020   14001    3351                 Argentina  \\\n16908  07/09/2020    7      9  2020   -8261    3800                   Ecuador   \n37038  09/10/2020    9     10  2020    4936    3013                    Mexico   \n44888  14/08/2020   14      8  2020    9441    3935                      Peru   \n44909  24/07/2020   24      7  2020    4546    3887                      Peru   \n59007  12/12/2020   12     12  2020  234633    3343  United_States_of_America   \n59009  10/12/2020   10     12  2020  220025    3124  United_States_of_America   \n59016  03/12/2020    3     12  2020  203311    3190  United_States_of_America   \n59239  24/04/2020   24      4  2020   26543    3179  United_States_of_America   \n59245  18/04/2020   18      4  2020   30833    3770  United_States_of_America   \n59247  16/04/2020   16      4  2020   30148    4928  United_States_of_America   \n\n      countryterritoryCode  popData2019 continentExp  \n2118                   ARG   44780675.0      America  \n16908                  ECU   17373657.0      America  \n37038                  MEX  127575529.0      America  \n44888                  PER   32510462.0      America  \n44909                  PER   32510462.0      America  \n59007                  USA  329064917.0      America  \n59009                  USA  329064917.0      America  \n59016                  USA  329064917.0      America  \n59239                  USA  329064917.0      America  \n59245                  USA  329064917.0      America  \n59247                  USA  329064917.0      America  ",
      "text/html": "<div>\n<style scoped>\n    .dataframe tbody tr th:only-of-type {\n        vertical-align: middle;\n    }\n\n    .dataframe tbody tr th {\n        vertical-align: top;\n    }\n\n    .dataframe thead th {\n        text-align: right;\n    }\n</style>\n<table border=\"1\" class=\"dataframe\">\n  <thead>\n    <tr style=\"text-align: right;\">\n      <th></th>\n      <th>dateRep</th>\n      <th>day</th>\n      <th>month</th>\n      <th>year</th>\n      <th>cases</th>\n      <th>deaths</th>\n      <th>countriesAndTerritories</th>\n      <th>countryterritoryCode</th>\n      <th>popData2019</th>\n      <th>continentExp</th>\n    </tr>\n  </thead>\n  <tbody>\n    <tr>\n      <th>2118</th>\n      <td>02/10/2020</td>\n      <td>2</td>\n      <td>10</td>\n      <td>2020</td>\n      <td>14001</td>\n      <td>3351</td>\n      <td>Argentina</td>\n      <td>ARG</td>\n      <td>44780675.0</td>\n      <td>America</td>\n    </tr>\n    <tr>\n      <th>16908</th>\n      <td>07/09/2020</td>\n      <td>7</td>\n      <td>9</td>\n      <td>2020</td>\n      <td>-8261</td>\n      <td>3800</td>\n      <td>Ecuador</td>\n      <td>ECU</td>\n      <td>17373657.0</td>\n      <td>America</td>\n    </tr>\n    <tr>\n      <th>37038</th>\n      <td>09/10/2020</td>\n      <td>9</td>\n      <td>10</td>\n      <td>2020</td>\n      <td>4936</td>\n      <td>3013</td>\n      <td>Mexico</td>\n      <td>MEX</td>\n      <td>127575529.0</td>\n      <td>America</td>\n    </tr>\n    <tr>\n      <th>44888</th>\n      <td>14/08/2020</td>\n      <td>14</td>\n      <td>8</td>\n      <td>2020</td>\n      <td>9441</td>\n      <td>3935</td>\n      <td>Peru</td>\n      <td>PER</td>\n      <td>32510462.0</td>\n      <td>America</td>\n    </tr>\n    <tr>\n      <th>44909</th>\n      <td>24/07/2020</td>\n      <td>24</td>\n      <td>7</td>\n      <td>2020</td>\n      <td>4546</td>\n      <td>3887</td>\n      <td>Peru</td>\n      <td>PER</td>\n      <td>32510462.0</td>\n      <td>America</td>\n    </tr>\n    <tr>\n      <th>59007</th>\n      <td>12/12/2020</td>\n      <td>12</td>\n      <td>12</td>\n      <td>2020</td>\n      <td>234633</td>\n      <td>3343</td>\n      <td>United_States_of_America</td>\n      <td>USA</td>\n      <td>329064917.0</td>\n      <td>America</td>\n    </tr>\n    <tr>\n      <th>59009</th>\n      <td>10/12/2020</td>\n      <td>10</td>\n      <td>12</td>\n      <td>2020</td>\n      <td>220025</td>\n      <td>3124</td>\n      <td>United_States_of_America</td>\n      <td>USA</td>\n      <td>329064917.0</td>\n      <td>America</td>\n    </tr>\n    <tr>\n      <th>59016</th>\n      <td>03/12/2020</td>\n      <td>3</td>\n      <td>12</td>\n      <td>2020</td>\n      <td>203311</td>\n      <td>3190</td>\n      <td>United_States_of_America</td>\n      <td>USA</td>\n      <td>329064917.0</td>\n      <td>America</td>\n    </tr>\n    <tr>\n      <th>59239</th>\n      <td>24/04/2020</td>\n      <td>24</td>\n      <td>4</td>\n      <td>2020</td>\n      <td>26543</td>\n      <td>3179</td>\n      <td>United_States_of_America</td>\n      <td>USA</td>\n      <td>329064917.0</td>\n      <td>America</td>\n    </tr>\n    <tr>\n      <th>59245</th>\n      <td>18/04/2020</td>\n      <td>18</td>\n      <td>4</td>\n      <td>2020</td>\n      <td>30833</td>\n      <td>3770</td>\n      <td>United_States_of_America</td>\n      <td>USA</td>\n      <td>329064917.0</td>\n      <td>America</td>\n    </tr>\n    <tr>\n      <th>59247</th>\n      <td>16/04/2020</td>\n      <td>16</td>\n      <td>4</td>\n      <td>2020</td>\n      <td>30148</td>\n      <td>4928</td>\n      <td>United_States_of_America</td>\n      <td>USA</td>\n      <td>329064917.0</td>\n      <td>America</td>\n    </tr>\n  </tbody>\n</table>\n</div>"
     },
     "execution_count": 51,
     "metadata": {},
     "output_type": "execute_result"
    }
   ],
   "source": [
    "high_death_countries"
   ],
   "metadata": {
    "collapsed": false,
    "ExecuteTime": {
     "end_time": "2023-10-17T09:07:05.478152300Z",
     "start_time": "2023-10-17T09:07:05.455228600Z"
    }
   }
  },
  {
   "cell_type": "markdown",
   "source": [
    "# Найти дублирование данных. Удалить дубликаты"
   ],
   "metadata": {
    "collapsed": false
   }
  },
  {
   "cell_type": "code",
   "execution_count": 52,
   "outputs": [
    {
     "data": {
      "text/plain": "          dateRep  day  month  year  cases  deaths countriesAndTerritories   \n0      14/12/2020   14     12  2020    746       6             Afghanistan  \\\n1      13/12/2020   13     12  2020    298       9             Afghanistan   \n2      12/12/2020   12     12  2020    113      11             Afghanistan   \n3      12/12/2020   12     12  2020    113      11             Afghanistan   \n4      11/12/2020   11     12  2020     63      10             Afghanistan   \n...           ...  ...    ...   ...    ...     ...                     ...   \n61899  25/03/2020   25      3  2020      0       0                Zimbabwe   \n61900  24/03/2020   24      3  2020      0       1                Zimbabwe   \n61901  23/03/2020   23      3  2020      0       0                Zimbabwe   \n61902  22/03/2020   22      3  2020      1       0                Zimbabwe   \n61903  21/03/2020   21      3  2020      1       0                Zimbabwe   \n\n      countryterritoryCode  popData2019 continentExp  \n0                      AFG   38041757.0         Asia  \n1                      AFG   38041757.0         Asia  \n2                      AFG   38041757.0         Asia  \n3                      AFG   38041757.0         Asia  \n4                      AFG   38041757.0         Asia  \n...                    ...          ...          ...  \n61899                  ZWE   14645473.0       Africa  \n61900                  ZWE   14645473.0       Africa  \n61901                  ZWE   14645473.0       Africa  \n61902                  ZWE   14645473.0       Africa  \n61903                  ZWE   14645473.0       Africa  \n\n[61904 rows x 10 columns]",
      "text/html": "<div>\n<style scoped>\n    .dataframe tbody tr th:only-of-type {\n        vertical-align: middle;\n    }\n\n    .dataframe tbody tr th {\n        vertical-align: top;\n    }\n\n    .dataframe thead th {\n        text-align: right;\n    }\n</style>\n<table border=\"1\" class=\"dataframe\">\n  <thead>\n    <tr style=\"text-align: right;\">\n      <th></th>\n      <th>dateRep</th>\n      <th>day</th>\n      <th>month</th>\n      <th>year</th>\n      <th>cases</th>\n      <th>deaths</th>\n      <th>countriesAndTerritories</th>\n      <th>countryterritoryCode</th>\n      <th>popData2019</th>\n      <th>continentExp</th>\n    </tr>\n  </thead>\n  <tbody>\n    <tr>\n      <th>0</th>\n      <td>14/12/2020</td>\n      <td>14</td>\n      <td>12</td>\n      <td>2020</td>\n      <td>746</td>\n      <td>6</td>\n      <td>Afghanistan</td>\n      <td>AFG</td>\n      <td>38041757.0</td>\n      <td>Asia</td>\n    </tr>\n    <tr>\n      <th>1</th>\n      <td>13/12/2020</td>\n      <td>13</td>\n      <td>12</td>\n      <td>2020</td>\n      <td>298</td>\n      <td>9</td>\n      <td>Afghanistan</td>\n      <td>AFG</td>\n      <td>38041757.0</td>\n      <td>Asia</td>\n    </tr>\n    <tr>\n      <th>2</th>\n      <td>12/12/2020</td>\n      <td>12</td>\n      <td>12</td>\n      <td>2020</td>\n      <td>113</td>\n      <td>11</td>\n      <td>Afghanistan</td>\n      <td>AFG</td>\n      <td>38041757.0</td>\n      <td>Asia</td>\n    </tr>\n    <tr>\n      <th>3</th>\n      <td>12/12/2020</td>\n      <td>12</td>\n      <td>12</td>\n      <td>2020</td>\n      <td>113</td>\n      <td>11</td>\n      <td>Afghanistan</td>\n      <td>AFG</td>\n      <td>38041757.0</td>\n      <td>Asia</td>\n    </tr>\n    <tr>\n      <th>4</th>\n      <td>11/12/2020</td>\n      <td>11</td>\n      <td>12</td>\n      <td>2020</td>\n      <td>63</td>\n      <td>10</td>\n      <td>Afghanistan</td>\n      <td>AFG</td>\n      <td>38041757.0</td>\n      <td>Asia</td>\n    </tr>\n    <tr>\n      <th>...</th>\n      <td>...</td>\n      <td>...</td>\n      <td>...</td>\n      <td>...</td>\n      <td>...</td>\n      <td>...</td>\n      <td>...</td>\n      <td>...</td>\n      <td>...</td>\n      <td>...</td>\n    </tr>\n    <tr>\n      <th>61899</th>\n      <td>25/03/2020</td>\n      <td>25</td>\n      <td>3</td>\n      <td>2020</td>\n      <td>0</td>\n      <td>0</td>\n      <td>Zimbabwe</td>\n      <td>ZWE</td>\n      <td>14645473.0</td>\n      <td>Africa</td>\n    </tr>\n    <tr>\n      <th>61900</th>\n      <td>24/03/2020</td>\n      <td>24</td>\n      <td>3</td>\n      <td>2020</td>\n      <td>0</td>\n      <td>1</td>\n      <td>Zimbabwe</td>\n      <td>ZWE</td>\n      <td>14645473.0</td>\n      <td>Africa</td>\n    </tr>\n    <tr>\n      <th>61901</th>\n      <td>23/03/2020</td>\n      <td>23</td>\n      <td>3</td>\n      <td>2020</td>\n      <td>0</td>\n      <td>0</td>\n      <td>Zimbabwe</td>\n      <td>ZWE</td>\n      <td>14645473.0</td>\n      <td>Africa</td>\n    </tr>\n    <tr>\n      <th>61902</th>\n      <td>22/03/2020</td>\n      <td>22</td>\n      <td>3</td>\n      <td>2020</td>\n      <td>1</td>\n      <td>0</td>\n      <td>Zimbabwe</td>\n      <td>ZWE</td>\n      <td>14645473.0</td>\n      <td>Africa</td>\n    </tr>\n    <tr>\n      <th>61903</th>\n      <td>21/03/2020</td>\n      <td>21</td>\n      <td>3</td>\n      <td>2020</td>\n      <td>1</td>\n      <td>0</td>\n      <td>Zimbabwe</td>\n      <td>ZWE</td>\n      <td>14645473.0</td>\n      <td>Africa</td>\n    </tr>\n  </tbody>\n</table>\n<p>61904 rows × 10 columns</p>\n</div>"
     },
     "execution_count": 52,
     "metadata": {},
     "output_type": "execute_result"
    }
   ],
   "source": [
    "ecdcc_data"
   ],
   "metadata": {
    "collapsed": false,
    "ExecuteTime": {
     "end_time": "2023-10-17T09:07:05.831986700Z",
     "start_time": "2023-10-17T09:07:05.800902700Z"
    }
   }
  },
  {
   "cell_type": "code",
   "execution_count": 53,
   "outputs": [
    {
     "data": {
      "text/plain": "          dateRep  day  month  year  cases  deaths countriesAndTerritories   \n0      14/12/2020   14     12  2020    746       6             Afghanistan  \\\n1      13/12/2020   13     12  2020    298       9             Afghanistan   \n2      12/12/2020   12     12  2020    113      11             Afghanistan   \n4      11/12/2020   11     12  2020     63      10             Afghanistan   \n5      10/12/2020   10     12  2020    202      16             Afghanistan   \n...           ...  ...    ...   ...    ...     ...                     ...   \n61899  25/03/2020   25      3  2020      0       0                Zimbabwe   \n61900  24/03/2020   24      3  2020      0       1                Zimbabwe   \n61901  23/03/2020   23      3  2020      0       0                Zimbabwe   \n61902  22/03/2020   22      3  2020      1       0                Zimbabwe   \n61903  21/03/2020   21      3  2020      1       0                Zimbabwe   \n\n      countryterritoryCode  popData2019 continentExp  \n0                      AFG   38041757.0         Asia  \n1                      AFG   38041757.0         Asia  \n2                      AFG   38041757.0         Asia  \n4                      AFG   38041757.0         Asia  \n5                      AFG   38041757.0         Asia  \n...                    ...          ...          ...  \n61899                  ZWE   14645473.0       Africa  \n61900                  ZWE   14645473.0       Africa  \n61901                  ZWE   14645473.0       Africa  \n61902                  ZWE   14645473.0       Africa  \n61903                  ZWE   14645473.0       Africa  \n\n[61900 rows x 10 columns]",
      "text/html": "<div>\n<style scoped>\n    .dataframe tbody tr th:only-of-type {\n        vertical-align: middle;\n    }\n\n    .dataframe tbody tr th {\n        vertical-align: top;\n    }\n\n    .dataframe thead th {\n        text-align: right;\n    }\n</style>\n<table border=\"1\" class=\"dataframe\">\n  <thead>\n    <tr style=\"text-align: right;\">\n      <th></th>\n      <th>dateRep</th>\n      <th>day</th>\n      <th>month</th>\n      <th>year</th>\n      <th>cases</th>\n      <th>deaths</th>\n      <th>countriesAndTerritories</th>\n      <th>countryterritoryCode</th>\n      <th>popData2019</th>\n      <th>continentExp</th>\n    </tr>\n  </thead>\n  <tbody>\n    <tr>\n      <th>0</th>\n      <td>14/12/2020</td>\n      <td>14</td>\n      <td>12</td>\n      <td>2020</td>\n      <td>746</td>\n      <td>6</td>\n      <td>Afghanistan</td>\n      <td>AFG</td>\n      <td>38041757.0</td>\n      <td>Asia</td>\n    </tr>\n    <tr>\n      <th>1</th>\n      <td>13/12/2020</td>\n      <td>13</td>\n      <td>12</td>\n      <td>2020</td>\n      <td>298</td>\n      <td>9</td>\n      <td>Afghanistan</td>\n      <td>AFG</td>\n      <td>38041757.0</td>\n      <td>Asia</td>\n    </tr>\n    <tr>\n      <th>2</th>\n      <td>12/12/2020</td>\n      <td>12</td>\n      <td>12</td>\n      <td>2020</td>\n      <td>113</td>\n      <td>11</td>\n      <td>Afghanistan</td>\n      <td>AFG</td>\n      <td>38041757.0</td>\n      <td>Asia</td>\n    </tr>\n    <tr>\n      <th>4</th>\n      <td>11/12/2020</td>\n      <td>11</td>\n      <td>12</td>\n      <td>2020</td>\n      <td>63</td>\n      <td>10</td>\n      <td>Afghanistan</td>\n      <td>AFG</td>\n      <td>38041757.0</td>\n      <td>Asia</td>\n    </tr>\n    <tr>\n      <th>5</th>\n      <td>10/12/2020</td>\n      <td>10</td>\n      <td>12</td>\n      <td>2020</td>\n      <td>202</td>\n      <td>16</td>\n      <td>Afghanistan</td>\n      <td>AFG</td>\n      <td>38041757.0</td>\n      <td>Asia</td>\n    </tr>\n    <tr>\n      <th>...</th>\n      <td>...</td>\n      <td>...</td>\n      <td>...</td>\n      <td>...</td>\n      <td>...</td>\n      <td>...</td>\n      <td>...</td>\n      <td>...</td>\n      <td>...</td>\n      <td>...</td>\n    </tr>\n    <tr>\n      <th>61899</th>\n      <td>25/03/2020</td>\n      <td>25</td>\n      <td>3</td>\n      <td>2020</td>\n      <td>0</td>\n      <td>0</td>\n      <td>Zimbabwe</td>\n      <td>ZWE</td>\n      <td>14645473.0</td>\n      <td>Africa</td>\n    </tr>\n    <tr>\n      <th>61900</th>\n      <td>24/03/2020</td>\n      <td>24</td>\n      <td>3</td>\n      <td>2020</td>\n      <td>0</td>\n      <td>1</td>\n      <td>Zimbabwe</td>\n      <td>ZWE</td>\n      <td>14645473.0</td>\n      <td>Africa</td>\n    </tr>\n    <tr>\n      <th>61901</th>\n      <td>23/03/2020</td>\n      <td>23</td>\n      <td>3</td>\n      <td>2020</td>\n      <td>0</td>\n      <td>0</td>\n      <td>Zimbabwe</td>\n      <td>ZWE</td>\n      <td>14645473.0</td>\n      <td>Africa</td>\n    </tr>\n    <tr>\n      <th>61902</th>\n      <td>22/03/2020</td>\n      <td>22</td>\n      <td>3</td>\n      <td>2020</td>\n      <td>1</td>\n      <td>0</td>\n      <td>Zimbabwe</td>\n      <td>ZWE</td>\n      <td>14645473.0</td>\n      <td>Africa</td>\n    </tr>\n    <tr>\n      <th>61903</th>\n      <td>21/03/2020</td>\n      <td>21</td>\n      <td>3</td>\n      <td>2020</td>\n      <td>1</td>\n      <td>0</td>\n      <td>Zimbabwe</td>\n      <td>ZWE</td>\n      <td>14645473.0</td>\n      <td>Africa</td>\n    </tr>\n  </tbody>\n</table>\n<p>61900 rows × 10 columns</p>\n</div>"
     },
     "execution_count": 53,
     "metadata": {},
     "output_type": "execute_result"
    }
   ],
   "source": [
    "ecdcc_data = ecdcc_data.drop_duplicates()\n",
    "ecdcc_data"
   ],
   "metadata": {
    "collapsed": false,
    "ExecuteTime": {
     "end_time": "2023-10-17T09:07:06.071795700Z",
     "start_time": "2023-10-17T09:07:06.015162500Z"
    }
   }
  },
  {
   "cell_type": "markdown",
   "source": [
    "#\tЗагрузить данные из файла “bmi.csv”. Взять оттуда две выборки.\n",
    "#\tОдна выборка – это индекс массы тела людей c региона northwest, вторая выборка – это индекс массы тела людей с региона southwest.\n",
    "#\tСравнить средние значения этих выборок, используя t-критерий Стьюдента.\n",
    "#\tПредварительно проверить выборки на нормальность (критерий Шопиро- Уилка) и на гомогенность дисперсии (критерий Бартлетта).\n"
   ],
   "metadata": {
    "collapsed": false
   }
  },
  {
   "cell_type": "code",
   "execution_count": 54,
   "outputs": [
    {
     "data": {
      "text/plain": "        bmi     region\n0    22.705  northwest\n1    28.880  northwest\n2    27.740  northwest\n3    25.840  northwest\n4    28.025  northwest\n..      ...        ...\n645  20.600  southwest\n646  38.600  southwest\n647  33.400  southwest\n648  44.700  southwest\n649  25.800  southwest\n\n[650 rows x 2 columns]",
      "text/html": "<div>\n<style scoped>\n    .dataframe tbody tr th:only-of-type {\n        vertical-align: middle;\n    }\n\n    .dataframe tbody tr th {\n        vertical-align: top;\n    }\n\n    .dataframe thead th {\n        text-align: right;\n    }\n</style>\n<table border=\"1\" class=\"dataframe\">\n  <thead>\n    <tr style=\"text-align: right;\">\n      <th></th>\n      <th>bmi</th>\n      <th>region</th>\n    </tr>\n  </thead>\n  <tbody>\n    <tr>\n      <th>0</th>\n      <td>22.705</td>\n      <td>northwest</td>\n    </tr>\n    <tr>\n      <th>1</th>\n      <td>28.880</td>\n      <td>northwest</td>\n    </tr>\n    <tr>\n      <th>2</th>\n      <td>27.740</td>\n      <td>northwest</td>\n    </tr>\n    <tr>\n      <th>3</th>\n      <td>25.840</td>\n      <td>northwest</td>\n    </tr>\n    <tr>\n      <th>4</th>\n      <td>28.025</td>\n      <td>northwest</td>\n    </tr>\n    <tr>\n      <th>...</th>\n      <td>...</td>\n      <td>...</td>\n    </tr>\n    <tr>\n      <th>645</th>\n      <td>20.600</td>\n      <td>southwest</td>\n    </tr>\n    <tr>\n      <th>646</th>\n      <td>38.600</td>\n      <td>southwest</td>\n    </tr>\n    <tr>\n      <th>647</th>\n      <td>33.400</td>\n      <td>southwest</td>\n    </tr>\n    <tr>\n      <th>648</th>\n      <td>44.700</td>\n      <td>southwest</td>\n    </tr>\n    <tr>\n      <th>649</th>\n      <td>25.800</td>\n      <td>southwest</td>\n    </tr>\n  </tbody>\n</table>\n<p>650 rows × 2 columns</p>\n</div>"
     },
     "execution_count": 54,
     "metadata": {},
     "output_type": "execute_result"
    }
   ],
   "source": [
    "bmi_data = pd.read_csv('bmi.csv')\n",
    "bmi_data"
   ],
   "metadata": {
    "collapsed": false,
    "ExecuteTime": {
     "end_time": "2023-10-17T09:07:06.422519500Z",
     "start_time": "2023-10-17T09:07:06.410001800Z"
    }
   }
  },
  {
   "cell_type": "code",
   "execution_count": 55,
   "outputs": [],
   "source": [
    "northwest_bmi = bmi_data[bmi_data['region'] == 'northwest']['bmi']\n",
    "southwest_bmi = bmi_data[bmi_data['region'] == 'southwest']['bmi']"
   ],
   "metadata": {
    "collapsed": false,
    "ExecuteTime": {
     "end_time": "2023-10-17T09:07:06.591164Z",
     "start_time": "2023-10-17T09:07:06.576196400Z"
    }
   }
  },
  {
   "cell_type": "code",
   "execution_count": 56,
   "outputs": [
    {
     "data": {
      "text/plain": "0      22.705\n1      28.880\n2      27.740\n3      25.840\n4      28.025\n        ...  \n320    26.315\n321    31.065\n322    25.935\n323    30.970\n324    29.070\nName: bmi, Length: 325, dtype: float64"
     },
     "execution_count": 56,
     "metadata": {},
     "output_type": "execute_result"
    }
   ],
   "source": [
    "northwest_bmi"
   ],
   "metadata": {
    "collapsed": false,
    "ExecuteTime": {
     "end_time": "2023-10-17T09:07:06.792219400Z",
     "start_time": "2023-10-17T09:07:06.766397300Z"
    }
   }
  },
  {
   "cell_type": "code",
   "execution_count": 57,
   "outputs": [
    {
     "data": {
      "text/plain": "325    27.9\n326    34.4\n327    24.6\n328    40.3\n329    35.3\n       ... \n645    20.6\n646    38.6\n647    33.4\n648    44.7\n649    25.8\nName: bmi, Length: 325, dtype: float64"
     },
     "execution_count": 57,
     "metadata": {},
     "output_type": "execute_result"
    }
   ],
   "source": [
    "southwest_bmi"
   ],
   "metadata": {
    "collapsed": false,
    "ExecuteTime": {
     "end_time": "2023-10-17T09:07:06.981267200Z",
     "start_time": "2023-10-17T09:07:06.951158200Z"
    }
   }
  },
  {
   "cell_type": "code",
   "execution_count": 58,
   "outputs": [
    {
     "name": "stdout",
     "output_type": "stream",
     "text": [
      "p-value для выборки из northwest: ShapiroResult(statistic=0.9954646825790405, pvalue=0.4655335247516632)\n",
      "p-value для выборки из southwest: ShapiroResult(statistic=0.9949268698692322, pvalue=0.3629520535469055)\n"
     ]
    }
   ],
   "source": [
    "from scipy.stats import shapiro\n",
    "\n",
    "p_value_nw = shapiro(northwest_bmi)\n",
    "p_value_sw = shapiro(southwest_bmi)\n",
    "\n",
    "print(f'p-value для выборки из northwest: {p_value_nw}')\n",
    "print(f'p-value для выборки из southwest: {p_value_sw}')"
   ],
   "metadata": {
    "collapsed": false,
    "ExecuteTime": {
     "end_time": "2023-10-17T09:07:07.179082700Z",
     "start_time": "2023-10-17T09:07:07.131627400Z"
    }
   }
  },
  {
   "cell_type": "markdown",
   "source": [
    "Если значение p-value для обеих выборок больше 0.05, то можно предположить, что данные распределены нормально."
   ],
   "metadata": {
    "collapsed": false
   }
  },
  {
   "cell_type": "code",
   "execution_count": 59,
   "outputs": [
    {
     "name": "stdout",
     "output_type": "stream",
     "text": [
      "p-value критерия Бартлетта: BartlettResult(statistic=3.4000745256459286, pvalue=0.06519347353581818)\n"
     ]
    }
   ],
   "source": [
    "from scipy.stats import bartlett\n",
    "\n",
    "p_value_bartlett = bartlett(northwest_bmi, southwest_bmi)\n",
    "\n",
    "print(f'p-value критерия Бартлетта: {p_value_bartlett}')"
   ],
   "metadata": {
    "collapsed": false,
    "ExecuteTime": {
     "end_time": "2023-10-17T09:07:07.496324900Z",
     "start_time": "2023-10-17T09:07:07.476272900Z"
    }
   }
  },
  {
   "cell_type": "markdown",
   "source": [
    "Если значение p-value критерия Бартлетта больше 0.05, то можно предположить, что дисперсии в обеих выборках схожи (гомогенность дисперсии)."
   ],
   "metadata": {
    "collapsed": false
   }
  },
  {
   "cell_type": "code",
   "execution_count": 60,
   "outputs": [
    {
     "name": "stdout",
     "output_type": "stream",
     "text": [
      "Значение t-статистики: -3.2844171500398582\n",
      "p-value t-теста: 0.001076958496307695\n"
     ]
    }
   ],
   "source": [
    "from scipy.stats import ttest_ind\n",
    "\n",
    "t_stat, p_value = ttest_ind(northwest_bmi, southwest_bmi)\n",
    "\n",
    "print(f'Значение t-статистики: {t_stat}')\n",
    "print(f'p-value t-теста: {p_value}')"
   ],
   "metadata": {
    "collapsed": false,
    "ExecuteTime": {
     "end_time": "2023-10-17T09:07:07.851624800Z",
     "start_time": "2023-10-17T09:07:07.841261400Z"
    }
   }
  },
  {
   "cell_type": "markdown",
   "source": [
    "Если значение p-value меньше выбранного уровня значимости (например, 0.05), то можно сделать вывод о статистической разнице между средними значениями двух выборок.\n",
    "\n",
    "Обратите внимание, что для корректного применения t-критерия Стьюдента, данные должны соответствовать условиям нормального распределения и гомогенности дисперсии."
   ],
   "metadata": {
    "collapsed": false
   }
  },
  {
   "cell_type": "code",
   "execution_count": 61,
   "outputs": [
    {
     "name": "stdout",
     "output_type": "stream",
     "text": [
      "Значение статистики Хи-квадрат: 1.44\n",
      "p-value: 0.9198882077437889\n"
     ]
    }
   ],
   "source": [
    "from scipy.stats import chisquare\n",
    "\n",
    "expected_counts = [100] * 6\n",
    "\n",
    "observed_counts = [97, 98, 109, 95, 97, 104]\n",
    "\n",
    "chi_square_stat, p_value = chisquare(f_obs=observed_counts, f_exp=expected_counts)\n",
    "\n",
    "print(f'Значение статистики Хи-квадрат: {chi_square_stat}')\n",
    "print(f'p-value: {p_value}')"
   ],
   "metadata": {
    "collapsed": false,
    "ExecuteTime": {
     "end_time": "2023-10-17T09:07:08.257656700Z",
     "start_time": "2023-10-17T09:07:08.246363600Z"
    }
   }
  },
  {
   "cell_type": "markdown",
   "source": [
    "# С помощью критерия Хи-квадрат проверить, являются ли переменные зависимыми.\n",
    "# Использовать функцию scipy.stats.chi2_contingency(). Влияет ли семейное положение на занятость?\n"
   ],
   "metadata": {
    "collapsed": false
   }
  },
  {
   "cell_type": "code",
   "execution_count": 62,
   "outputs": [
    {
     "name": "stdout",
     "output_type": "stream",
     "text": [
      "Значение статистики Хи-квадрат: 122.29654948595365\n",
      "p-value: 1.7291616900960234e-21\n",
      "Степени свободы: 10\n"
     ]
    }
   ],
   "source": [
    "from scipy.stats import chi2_contingency\n",
    "\n",
    "data = pd.DataFrame({'Женат': [89, 17, 11, 43, 22, 1],\n",
    "                     'Гражданский брак': [80, 22, 20, 35, 6, 4],\n",
    "                     'Не состоит в отношениях': [35, 44, 35, 6, 8, 22]})\n",
    "data.index = ['Полный рабочий день', 'Частичная занятость', 'Временно не работает', 'На домохозяйстве', 'На пенсии', 'Учёба']\n",
    "\n",
    "chi2_stat, p_value, dof, expected = chi2_contingency(data)\n",
    "\n",
    "print(f'Значение статистики Хи-квадрат: {chi2_stat}')\n",
    "print(f'p-value: {p_value}')\n",
    "print(f'Степени свободы: {dof}')"
   ],
   "metadata": {
    "collapsed": false,
    "ExecuteTime": {
     "end_time": "2023-10-17T09:07:08.961002900Z",
     "start_time": "2023-10-17T09:07:08.936423500Z"
    }
   }
  },
  {
   "cell_type": "markdown",
   "source": [
    "Если p-value меньше выбранного уровня значимости (например, 0.05), то можно заключить, что семейное положение влияет на занятость. Если p-value больше уровня значимости, то нет достаточных доказательств для отвержения нулевой гипотезы о независимости семейного положения и занятости."
   ],
   "metadata": {
    "collapsed": false
   }
  },
  {
   "cell_type": "code",
   "execution_count": 62,
   "outputs": [],
   "source": [],
   "metadata": {
    "collapsed": false,
    "ExecuteTime": {
     "end_time": "2023-10-17T09:07:09.763931300Z",
     "start_time": "2023-10-17T09:07:09.751395900Z"
    }
   }
  },
  {
   "cell_type": "code",
   "execution_count": null,
   "outputs": [],
   "source": [],
   "metadata": {
    "collapsed": false,
    "ExecuteTime": {
     "start_time": "2023-10-17T09:06:52.317604900Z"
    }
   }
  },
  {
   "cell_type": "code",
   "execution_count": null,
   "outputs": [],
   "source": [],
   "metadata": {
    "collapsed": false,
    "ExecuteTime": {
     "start_time": "2023-10-17T09:06:52.318607300Z"
    }
   }
  }
 ],
 "metadata": {
  "kernelspec": {
   "display_name": "Python 3",
   "language": "python",
   "name": "python3"
  },
  "language_info": {
   "codemirror_mode": {
    "name": "ipython",
    "version": 2
   },
   "file_extension": ".py",
   "mimetype": "text/x-python",
   "name": "python",
   "nbconvert_exporter": "python",
   "pygments_lexer": "ipython2",
   "version": "2.7.6"
  }
 },
 "nbformat": 4,
 "nbformat_minor": 0
}
