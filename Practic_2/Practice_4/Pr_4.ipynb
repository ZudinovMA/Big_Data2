{
 "cells": [
  {
   "cell_type": "code",
   "execution_count": 19,
   "metadata": {
    "collapsed": true,
    "ExecuteTime": {
     "end_time": "2023-11-06T16:42:12.738471Z",
     "start_time": "2023-11-06T16:42:11.460127500Z"
    }
   },
   "outputs": [],
   "source": [
    "import matplotlib.pyplot as plt\n",
    "import numpy as np\n",
    "import pandas as pd\n",
    "from scipy.stats import pearsonr\n",
    "from sklearn.linear_model import LinearRegression\n",
    "from sklearn.metrics import mean_squared_error\n",
    "import scipy.stats as stats\n",
    "from statsmodels.stats.multicomp import pairwise_tukeyhsd\n",
    "import statsmodels.api as sm"
   ]
  },
  {
   "cell_type": "code",
   "execution_count": 8,
   "outputs": [
    {
     "name": "stdout",
     "output_type": "stream",
     "text": [
      "Корреляция между переменными \"Улица\" и \"Гараж\": -0.9999999999999997\n"
     ]
    },
    {
     "data": {
      "text/plain": "<Figure size 640x480 with 1 Axes>",
      "image/png": "[encoded data removed]"
     },
     "metadata": {},
     "output_type": "display_data"
    }
   ],
   "source": [
    "day = ['Понедельник', 'Вторник', 'Среда', 'Четверг', 'Пятница']\n",
    "street = [80, 98, 75, 91, 78]\n",
    "garage = [100, 82, 105, 89, 102]\n",
    "\n",
    "# Расчет корреляции Пирсона\n",
    "corr, _ = pearsonr(street, garage)\n",
    "print('Корреляция между переменными \"Улица\" и \"Гараж\":', corr)\n",
    "\n",
    "# Построение диаграммы рассеяния\n",
    "plt.scatter(street, garage)\n",
    "plt.xlabel('Улица')\n",
    "plt.ylabel('Гараж')\n",
    "plt.title('Диаграмма рассеяния')\n",
    "plt.show()"
   ],
   "metadata": {
    "collapsed": false,
    "ExecuteTime": {
     "end_time": "2023-11-06T14:52:42.566977700Z",
     "start_time": "2023-11-06T14:52:42.412724800Z"
    }
   }
  },
  {
   "cell_type": "code",
   "execution_count": 9,
   "outputs": [
    {
     "data": {
      "text/plain": "    CCA3              Name     2022     2020     2015     2010     2000   \n0     CN             China  1425887  1424930  1393715  1348191  1264099  \\\n1     IN             India  1417173  1396387  1322867  1240614  1059634   \n2     US     United States   338290   335942   324608   311183   282399   \n3     ID         Indonesia   275501   271858   259092   244016   214072   \n4     PK          Pakistan   235825   227197   210969   194454   154370   \n..   ...               ...      ...      ...      ...      ...      ...   \n229   MS        Montserrat        4        5        5        5        5   \n230   FK  Falkland Islands        4        4        3        3        3   \n231   NU              Niue        2        2        2        2        2   \n232   TK           Tokelau        2        2        1        1        2   \n233   VA      Vatican City        1        1        1        1        1   \n\n        1990    1980    1970  Area (km²)  Density (per km²)  GrowthRate   \n0    1153704  982372  822534     9706961           146.8933        1.00  \\\n1     870452  696828  557501     3287590           431.0675        1.01   \n2     248084  223140  200328     9372610            36.0935        1.00   \n3     182160  148177  115228     1904569           144.6529        1.01   \n4     115414   80624   59291      881912           267.4018        1.02   \n..       ...     ...     ...         ...                ...         ...   \n229       11      11      11         102            43.0392        0.99   \n230        2       2       2       12173             0.3105        1.00   \n231        3       4       5         260             7.4385        1.00   \n232        2       2       2          12           155.9167        1.01   \n233        1       1       1           1           510.0000        1.00   \n\n    World Population Percentage  Rank  \n0                        17.88%     1  \n1                        17.77%     2  \n2                         4.24%     3  \n3                         3.45%     4  \n4                         2.96%     5  \n..                          ...   ...  \n229                       0.00%   230  \n230                       0.00%   231  \n231                       0.00%   232  \n232                       0.00%   233  \n233                       0.00%   234  \n\n[234 rows x 15 columns]",
      "text/html": "<div>\n<style scoped>\n    .dataframe tbody tr th:only-of-type {\n        vertical-align: middle;\n    }\n\n    .dataframe tbody tr th {\n        vertical-align: top;\n    }\n\n    .dataframe thead th {\n        text-align: right;\n    }\n</style>\n<table border=\"1\" class=\"dataframe\">\n  <thead>\n    <tr style=\"text-align: right;\">\n      <th></th>\n      <th>CCA3</th>\n      <th>Name</th>\n      <th>2022</th>\n      <th>2020</th>\n      <th>2015</th>\n      <th>2010</th>\n      <th>2000</th>\n      <th>1990</th>\n      <th>1980</th>\n      <th>1970</th>\n      <th>Area (km²)</th>\n      <th>Density (per km²)</th>\n      <th>GrowthRate</th>\n      <th>World Population Percentage</th>\n      <th>Rank</th>\n    </tr>\n  </thead>\n  <tbody>\n    <tr>\n      <th>0</th>\n      <td>CN</td>\n      <td>China</td>\n      <td>1425887</td>\n      <td>1424930</td>\n      <td>1393715</td>\n      <td>1348191</td>\n      <td>1264099</td>\n      <td>1153704</td>\n      <td>982372</td>\n      <td>822534</td>\n      <td>9706961</td>\n      <td>146.8933</td>\n      <td>1.00</td>\n      <td>17.88%</td>\n      <td>1</td>\n    </tr>\n    <tr>\n      <th>1</th>\n      <td>IN</td>\n      <td>India</td>\n      <td>1417173</td>\n      <td>1396387</td>\n      <td>1322867</td>\n      <td>1240614</td>\n      <td>1059634</td>\n      <td>870452</td>\n      <td>696828</td>\n      <td>557501</td>\n      <td>3287590</td>\n      <td>431.0675</td>\n      <td>1.01</td>\n      <td>17.77%</td>\n      <td>2</td>\n    </tr>\n    <tr>\n      <th>2</th>\n      <td>US</td>\n      <td>United States</td>\n      <td>338290</td>\n      <td>335942</td>\n      <td>324608</td>\n      <td>311183</td>\n      <td>282399</td>\n      <td>248084</td>\n      <td>223140</td>\n      <td>200328</td>\n      <td>9372610</td>\n      <td>36.0935</td>\n      <td>1.00</td>\n      <td>4.24%</td>\n      <td>3</td>\n    </tr>\n    <tr>\n      <th>3</th>\n      <td>ID</td>\n      <td>Indonesia</td>\n      <td>275501</td>\n      <td>271858</td>\n      <td>259092</td>\n      <td>244016</td>\n      <td>214072</td>\n      <td>182160</td>\n      <td>148177</td>\n      <td>115228</td>\n      <td>1904569</td>\n      <td>144.6529</td>\n      <td>1.01</td>\n      <td>3.45%</td>\n      <td>4</td>\n    </tr>\n    <tr>\n      <th>4</th>\n      <td>PK</td>\n      <td>Pakistan</td>\n      <td>235825</td>\n      <td>227197</td>\n      <td>210969</td>\n      <td>194454</td>\n      <td>154370</td>\n      <td>115414</td>\n      <td>80624</td>\n      <td>59291</td>\n      <td>881912</td>\n      <td>267.4018</td>\n      <td>1.02</td>\n      <td>2.96%</td>\n      <td>5</td>\n    </tr>\n    <tr>\n      <th>...</th>\n      <td>...</td>\n      <td>...</td>\n      <td>...</td>\n      <td>...</td>\n      <td>...</td>\n      <td>...</td>\n      <td>...</td>\n      <td>...</td>\n      <td>...</td>\n      <td>...</td>\n      <td>...</td>\n      <td>...</td>\n      <td>...</td>\n      <td>...</td>\n      <td>...</td>\n    </tr>\n    <tr>\n      <th>229</th>\n      <td>MS</td>\n      <td>Montserrat</td>\n      <td>4</td>\n      <td>5</td>\n      <td>5</td>\n      <td>5</td>\n      <td>5</td>\n      <td>11</td>\n      <td>11</td>\n      <td>11</td>\n      <td>102</td>\n      <td>43.0392</td>\n      <td>0.99</td>\n      <td>0.00%</td>\n      <td>230</td>\n    </tr>\n    <tr>\n      <th>230</th>\n      <td>FK</td>\n      <td>Falkland Islands</td>\n      <td>4</td>\n      <td>4</td>\n      <td>3</td>\n      <td>3</td>\n      <td>3</td>\n      <td>2</td>\n      <td>2</td>\n      <td>2</td>\n      <td>12173</td>\n      <td>0.3105</td>\n      <td>1.00</td>\n      <td>0.00%</td>\n      <td>231</td>\n    </tr>\n    <tr>\n      <th>231</th>\n      <td>NU</td>\n      <td>Niue</td>\n      <td>2</td>\n      <td>2</td>\n      <td>2</td>\n      <td>2</td>\n      <td>2</td>\n      <td>3</td>\n      <td>4</td>\n      <td>5</td>\n      <td>260</td>\n      <td>7.4385</td>\n      <td>1.00</td>\n      <td>0.00%</td>\n      <td>232</td>\n    </tr>\n    <tr>\n      <th>232</th>\n      <td>TK</td>\n      <td>Tokelau</td>\n      <td>2</td>\n      <td>2</td>\n      <td>1</td>\n      <td>1</td>\n      <td>2</td>\n      <td>2</td>\n      <td>2</td>\n      <td>2</td>\n      <td>12</td>\n      <td>155.9167</td>\n      <td>1.01</td>\n      <td>0.00%</td>\n      <td>233</td>\n    </tr>\n    <tr>\n      <th>233</th>\n      <td>VA</td>\n      <td>Vatican City</td>\n      <td>1</td>\n      <td>1</td>\n      <td>1</td>\n      <td>1</td>\n      <td>1</td>\n      <td>1</td>\n      <td>1</td>\n      <td>1</td>\n      <td>1</td>\n      <td>510.0000</td>\n      <td>1.00</td>\n      <td>0.00%</td>\n      <td>234</td>\n    </tr>\n  </tbody>\n</table>\n<p>234 rows × 15 columns</p>\n</div>"
     },
     "execution_count": 9,
     "metadata": {},
     "output_type": "execute_result"
    }
   ],
   "source": [
    "data = pd.read_csv('World Population Live Dataset.csv')\n",
    "data"
   ],
   "metadata": {
    "collapsed": false,
    "ExecuteTime": {
     "end_time": "2023-11-06T14:52:42.658303100Z",
     "start_time": "2023-11-06T14:52:42.565473Z"
    }
   }
  },
  {
   "cell_type": "code",
   "execution_count": 10,
   "outputs": [
    {
     "data": {
      "text/plain": "  CCA3           Name     2022     2020     2015     2010     2000     1990   \n0   CN          China  1425887  1424930  1393715  1348191  1264099  1153704  \\\n1   IN          India  1417173  1396387  1322867  1240614  1059634   870452   \n2   US  United States   338290   335942   324608   311183   282399   248084   \n3   ID      Indonesia   275501   271858   259092   244016   214072   182160   \n4   PK       Pakistan   235825   227197   210969   194454   154370   115414   \n\n     1980    1970  Area (km²)  Density (per km²)  GrowthRate   \n0  982372  822534     9706961           146.8933        1.00  \\\n1  696828  557501     3287590           431.0675        1.01   \n2  223140  200328     9372610            36.0935        1.00   \n3  148177  115228     1904569           144.6529        1.01   \n4   80624   59291      881912           267.4018        1.02   \n\n  World Population Percentage  Rank  \n0                      17.88%     1  \n1                      17.77%     2  \n2                       4.24%     3  \n3                       3.45%     4  \n4                       2.96%     5  ",
      "text/html": "<div>\n<style scoped>\n    .dataframe tbody tr th:only-of-type {\n        vertical-align: middle;\n    }\n\n    .dataframe tbody tr th {\n        vertical-align: top;\n    }\n\n    .dataframe thead th {\n        text-align: right;\n    }\n</style>\n<table border=\"1\" class=\"dataframe\">\n  <thead>\n    <tr style=\"text-align: right;\">\n      <th></th>\n      <th>CCA3</th>\n      <th>Name</th>\n      <th>2022</th>\n      <th>2020</th>\n      <th>2015</th>\n      <th>2010</th>\n      <th>2000</th>\n      <th>1990</th>\n      <th>1980</th>\n      <th>1970</th>\n      <th>Area (km²)</th>\n      <th>Density (per km²)</th>\n      <th>GrowthRate</th>\n      <th>World Population Percentage</th>\n      <th>Rank</th>\n    </tr>\n  </thead>\n  <tbody>\n    <tr>\n      <th>0</th>\n      <td>CN</td>\n      <td>China</td>\n      <td>1425887</td>\n      <td>1424930</td>\n      <td>1393715</td>\n      <td>1348191</td>\n      <td>1264099</td>\n      <td>1153704</td>\n      <td>982372</td>\n      <td>822534</td>\n      <td>9706961</td>\n      <td>146.8933</td>\n      <td>1.00</td>\n      <td>17.88%</td>\n      <td>1</td>\n    </tr>\n    <tr>\n      <th>1</th>\n      <td>IN</td>\n      <td>India</td>\n      <td>1417173</td>\n      <td>1396387</td>\n      <td>1322867</td>\n      <td>1240614</td>\n      <td>1059634</td>\n      <td>870452</td>\n      <td>696828</td>\n      <td>557501</td>\n      <td>3287590</td>\n      <td>431.0675</td>\n      <td>1.01</td>\n      <td>17.77%</td>\n      <td>2</td>\n    </tr>\n    <tr>\n      <th>2</th>\n      <td>US</td>\n      <td>United States</td>\n      <td>338290</td>\n      <td>335942</td>\n      <td>324608</td>\n      <td>311183</td>\n      <td>282399</td>\n      <td>248084</td>\n      <td>223140</td>\n      <td>200328</td>\n      <td>9372610</td>\n      <td>36.0935</td>\n      <td>1.00</td>\n      <td>4.24%</td>\n      <td>3</td>\n    </tr>\n    <tr>\n      <th>3</th>\n      <td>ID</td>\n      <td>Indonesia</td>\n      <td>275501</td>\n      <td>271858</td>\n      <td>259092</td>\n      <td>244016</td>\n      <td>214072</td>\n      <td>182160</td>\n      <td>148177</td>\n      <td>115228</td>\n      <td>1904569</td>\n      <td>144.6529</td>\n      <td>1.01</td>\n      <td>3.45%</td>\n      <td>4</td>\n    </tr>\n    <tr>\n      <th>4</th>\n      <td>PK</td>\n      <td>Pakistan</td>\n      <td>235825</td>\n      <td>227197</td>\n      <td>210969</td>\n      <td>194454</td>\n      <td>154370</td>\n      <td>115414</td>\n      <td>80624</td>\n      <td>59291</td>\n      <td>881912</td>\n      <td>267.4018</td>\n      <td>1.02</td>\n      <td>2.96%</td>\n      <td>5</td>\n    </tr>\n  </tbody>\n</table>\n</div>"
     },
     "execution_count": 10,
     "metadata": {},
     "output_type": "execute_result"
    }
   ],
   "source": [
    "data.head()"
   ],
   "metadata": {
    "collapsed": false,
    "ExecuteTime": {
     "end_time": "2023-11-06T14:52:42.658303100Z",
     "start_time": "2023-11-06T14:52:42.598445900Z"
    }
   }
  },
  {
   "cell_type": "code",
   "execution_count": 11,
   "outputs": [
    {
     "data": {
      "text/plain": "CCA3                            object\nName                            object\n2022                             int64\n2020                             int64\n2015                             int64\n2010                             int64\n2000                             int64\n1990                             int64\n1980                             int64\n1970                             int64\nArea (km²)                       int64\nDensity (per km²)              float64\nGrowthRate                     float64\nWorld Population Percentage     object\nRank                             int64\ndtype: object"
     },
     "execution_count": 11,
     "metadata": {},
     "output_type": "execute_result"
    }
   ],
   "source": [
    "data = data.dropna()\n",
    "\n",
    "data.dtypes"
   ],
   "metadata": {
    "collapsed": false,
    "ExecuteTime": {
     "end_time": "2023-11-06T14:52:42.658303100Z",
     "start_time": "2023-11-06T14:52:42.615965600Z"
    }
   }
  },
  {
   "cell_type": "code",
   "execution_count": 12,
   "outputs": [
    {
     "data": {
      "text/plain": "               2022          2020          2015          2010          2000   \ncount  2.330000e+02  2.330000e+02  2.330000e+02  2.330000e+02  2.330000e+02  \\\nmean   3.420964e+04  3.363419e+04  3.185633e+04  2.996431e+04  2.637440e+04   \nstd    1.370452e+05  1.358665e+05  1.306714e+05  1.244725e+05  1.119271e+05   \nmin    1.000000e+00  1.000000e+00  1.000000e+00  1.000000e+00  1.000000e+00   \n25%    4.100000e+02  4.060000e+02  3.990000e+02  3.920000e+02  3.250000e+02   \n50%    5.579000e+03  5.529000e+03  5.424000e+03  4.996000e+03  4.321000e+03   \n75%    2.259400e+04  2.152300e+04  1.990600e+04  1.987800e+04  1.589900e+04   \nmax    1.425887e+06  1.424930e+06  1.393715e+06  1.348191e+06  1.264099e+06   \n\n               1990           1980           1970    Area (km²)   \ncount  2.330000e+02     233.000000     233.000000  2.330000e+02  \\\nmean   2.280183e+04   19061.935622   15851.394850  5.804015e+05   \nstd    9.803272e+04   81952.642795   67933.817522  1.765561e+06   \nmin    1.000000e+00       1.000000       1.000000  1.000000e+00   \n25%    2.620000e+02     228.000000     150.000000  2.586000e+03   \n50%    3.865000e+03    3147.000000    2675.000000  7.886500e+04   \n75%    1.188300e+04    9829.000000    8862.000000  4.067520e+05   \nmax    1.153704e+06  982372.000000  822534.000000  1.709824e+07   \n\n       Density (per km²)  GrowthRate        Rank  \ncount         233.000000  233.000000  233.000000  \nmean          454.054159    1.009828  117.381974  \nstd          2070.359198    0.013802   67.815769  \nmin             0.026100    0.910000    1.000000  \n25%            39.335500    1.000000   59.000000  \n50%            96.702600    1.010000  117.000000  \n75%           239.582100    1.020000  176.000000  \nmax         23172.266700    1.070000  234.000000  ",
      "text/html": "<div>\n<style scoped>\n    .dataframe tbody tr th:only-of-type {\n        vertical-align: middle;\n    }\n\n    .dataframe tbody tr th {\n        vertical-align: top;\n    }\n\n    .dataframe thead th {\n        text-align: right;\n    }\n</style>\n<table border=\"1\" class=\"dataframe\">\n  <thead>\n    <tr style=\"text-align: right;\">\n      <th></th>\n      <th>2022</th>\n      <th>2020</th>\n      <th>2015</th>\n      <th>2010</th>\n      <th>2000</th>\n      <th>1990</th>\n      <th>1980</th>\n      <th>1970</th>\n      <th>Area (km²)</th>\n      <th>Density (per km²)</th>\n      <th>GrowthRate</th>\n      <th>Rank</th>\n    </tr>\n  </thead>\n  <tbody>\n    <tr>\n      <th>count</th>\n      <td>2.330000e+02</td>\n      <td>2.330000e+02</td>\n      <td>2.330000e+02</td>\n      <td>2.330000e+02</td>\n      <td>2.330000e+02</td>\n      <td>2.330000e+02</td>\n      <td>233.000000</td>\n      <td>233.000000</td>\n      <td>2.330000e+02</td>\n      <td>233.000000</td>\n      <td>233.000000</td>\n      <td>233.000000</td>\n    </tr>\n    <tr>\n      <th>mean</th>\n      <td>3.420964e+04</td>\n      <td>3.363419e+04</td>\n      <td>3.185633e+04</td>\n      <td>2.996431e+04</td>\n      <td>2.637440e+04</td>\n      <td>2.280183e+04</td>\n      <td>19061.935622</td>\n      <td>15851.394850</td>\n      <td>5.804015e+05</td>\n      <td>454.054159</td>\n      <td>1.009828</td>\n      <td>117.381974</td>\n    </tr>\n    <tr>\n      <th>std</th>\n      <td>1.370452e+05</td>\n      <td>1.358665e+05</td>\n      <td>1.306714e+05</td>\n      <td>1.244725e+05</td>\n      <td>1.119271e+05</td>\n      <td>9.803272e+04</td>\n      <td>81952.642795</td>\n      <td>67933.817522</td>\n      <td>1.765561e+06</td>\n      <td>2070.359198</td>\n      <td>0.013802</td>\n      <td>67.815769</td>\n    </tr>\n    <tr>\n      <th>min</th>\n      <td>1.000000e+00</td>\n      <td>1.000000e+00</td>\n      <td>1.000000e+00</td>\n      <td>1.000000e+00</td>\n      <td>1.000000e+00</td>\n      <td>1.000000e+00</td>\n      <td>1.000000</td>\n      <td>1.000000</td>\n      <td>1.000000e+00</td>\n      <td>0.026100</td>\n      <td>0.910000</td>\n      <td>1.000000</td>\n    </tr>\n    <tr>\n      <th>25%</th>\n      <td>4.100000e+02</td>\n      <td>4.060000e+02</td>\n      <td>3.990000e+02</td>\n      <td>3.920000e+02</td>\n      <td>3.250000e+02</td>\n      <td>2.620000e+02</td>\n      <td>228.000000</td>\n      <td>150.000000</td>\n      <td>2.586000e+03</td>\n      <td>39.335500</td>\n      <td>1.000000</td>\n      <td>59.000000</td>\n    </tr>\n    <tr>\n      <th>50%</th>\n      <td>5.579000e+03</td>\n      <td>5.529000e+03</td>\n      <td>5.424000e+03</td>\n      <td>4.996000e+03</td>\n      <td>4.321000e+03</td>\n      <td>3.865000e+03</td>\n      <td>3147.000000</td>\n      <td>2675.000000</td>\n      <td>7.886500e+04</td>\n      <td>96.702600</td>\n      <td>1.010000</td>\n      <td>117.000000</td>\n    </tr>\n    <tr>\n      <th>75%</th>\n      <td>2.259400e+04</td>\n      <td>2.152300e+04</td>\n      <td>1.990600e+04</td>\n      <td>1.987800e+04</td>\n      <td>1.589900e+04</td>\n      <td>1.188300e+04</td>\n      <td>9829.000000</td>\n      <td>8862.000000</td>\n      <td>4.067520e+05</td>\n      <td>239.582100</td>\n      <td>1.020000</td>\n      <td>176.000000</td>\n    </tr>\n    <tr>\n      <th>max</th>\n      <td>1.425887e+06</td>\n      <td>1.424930e+06</td>\n      <td>1.393715e+06</td>\n      <td>1.348191e+06</td>\n      <td>1.264099e+06</td>\n      <td>1.153704e+06</td>\n      <td>982372.000000</td>\n      <td>822534.000000</td>\n      <td>1.709824e+07</td>\n      <td>23172.266700</td>\n      <td>1.070000</td>\n      <td>234.000000</td>\n    </tr>\n  </tbody>\n</table>\n</div>"
     },
     "execution_count": 12,
     "metadata": {},
     "output_type": "execute_result"
    }
   ],
   "source": [
    "description = data.describe()\n",
    "description"
   ],
   "metadata": {
    "collapsed": false,
    "ExecuteTime": {
     "end_time": "2023-11-06T14:52:42.689241100Z",
     "start_time": "2023-11-06T14:52:42.630716200Z"
    }
   }
  },
  {
   "cell_type": "code",
   "execution_count": 13,
   "outputs": [
    {
     "data": {
      "text/plain": "<pandas.io.formats.style.Styler at 0x1fb50bafb20>",
      "text/html": "<style type=\"text/css\">\n#T_7f095_row0_col0, #T_7f095_row1_col0, #T_7f095_row2_col0, #T_7f095_row3_col0 {\n  background-color: #b40426;\n  color: #f1f1f1;\n}\n#T_7f095_row4_col0, #T_7f095_row5_col0 {\n  background-color: #b50927;\n  color: #f1f1f1;\n}\n#T_7f095_row6_col0 {\n  background-color: #b8122a;\n  color: #f1f1f1;\n}\n#T_7f095_row7_col0 {\n  background-color: #bb1b2c;\n  color: #f1f1f1;\n}\n#T_7f095_row8_col0 {\n  background-color: #f1ccb8;\n  color: #000000;\n}\n#T_7f095_row9_col0 {\n  background-color: #8badfd;\n  color: #000000;\n}\n#T_7f095_row10_col0 {\n  background-color: #8fb1fe;\n  color: #000000;\n}\n#T_7f095_row11_col0 {\n  background-color: #3b4cc0;\n  color: #f1f1f1;\n}\n</style>\n<table id=\"T_7f095\">\n  <thead>\n    <tr>\n      <th class=\"blank level0\" >&nbsp;</th>\n      <th id=\"T_7f095_level0_col0\" class=\"col_heading level0 col0\" >2022</th>\n    </tr>\n  </thead>\n  <tbody>\n    <tr>\n      <th id=\"T_7f095_level0_row0\" class=\"row_heading level0 row0\" >2022</th>\n      <td id=\"T_7f095_row0_col0\" class=\"data row0 col0\" >1.000000</td>\n    </tr>\n    <tr>\n      <th id=\"T_7f095_level0_row1\" class=\"row_heading level0 row1\" >2020</th>\n      <td id=\"T_7f095_row1_col0\" class=\"data row1 col0\" >1.000000</td>\n    </tr>\n    <tr>\n      <th id=\"T_7f095_level0_row2\" class=\"row_heading level0 row2\" >2015</th>\n      <td id=\"T_7f095_row2_col0\" class=\"data row2 col0\" >1.000000</td>\n    </tr>\n    <tr>\n      <th id=\"T_7f095_level0_row3\" class=\"row_heading level0 row3\" >2010</th>\n      <td id=\"T_7f095_row3_col0\" class=\"data row3 col0\" >1.000000</td>\n    </tr>\n    <tr>\n      <th id=\"T_7f095_level0_row4\" class=\"row_heading level0 row4\" >2000</th>\n      <td id=\"T_7f095_row4_col0\" class=\"data row4 col0\" >0.990000</td>\n    </tr>\n    <tr>\n      <th id=\"T_7f095_level0_row5\" class=\"row_heading level0 row5\" >1990</th>\n      <td id=\"T_7f095_row5_col0\" class=\"data row5 col0\" >0.990000</td>\n    </tr>\n    <tr>\n      <th id=\"T_7f095_level0_row6\" class=\"row_heading level0 row6\" >1980</th>\n      <td id=\"T_7f095_row6_col0\" class=\"data row6 col0\" >0.980000</td>\n    </tr>\n    <tr>\n      <th id=\"T_7f095_level0_row7\" class=\"row_heading level0 row7\" >1970</th>\n      <td id=\"T_7f095_row7_col0\" class=\"data row7 col0\" >0.970000</td>\n    </tr>\n    <tr>\n      <th id=\"T_7f095_level0_row8\" class=\"row_heading level0 row8\" >Area (km²)</th>\n      <td id=\"T_7f095_row8_col0\" class=\"data row8 col0\" >0.450000</td>\n    </tr>\n    <tr>\n      <th id=\"T_7f095_level0_row9\" class=\"row_heading level0 row9\" >Density (per km²)</th>\n      <td id=\"T_7f095_row9_col0\" class=\"data row9 col0\" >-0.030000</td>\n    </tr>\n    <tr>\n      <th id=\"T_7f095_level0_row10\" class=\"row_heading level0 row10\" >GrowthRate</th>\n      <td id=\"T_7f095_row10_col0\" class=\"data row10 col0\" >-0.010000</td>\n    </tr>\n    <tr>\n      <th id=\"T_7f095_level0_row11\" class=\"row_heading level0 row11\" >Rank</th>\n      <td id=\"T_7f095_row11_col0\" class=\"data row11 col0\" >-0.360000</td>\n    </tr>\n  </tbody>\n</table>\n"
     },
     "execution_count": 13,
     "metadata": {},
     "output_type": "execute_result"
    }
   ],
   "source": [
    "target_variable = \"2022\"\n",
    "target_data = data[target_variable]\n",
    "\n",
    "# Построим и выведем корреляционную матрицу\n",
    "correlation_matrix = data.corr(numeric_only = True)['2022'].to_frame().round(2)\n",
    "correlation_matrix.style.background_gradient(cmap='coolwarm')"
   ],
   "metadata": {
    "collapsed": false,
    "ExecuteTime": {
     "end_time": "2023-11-06T14:52:42.772213500Z",
     "start_time": "2023-11-06T14:52:42.661307900Z"
    }
   }
  },
  {
   "cell_type": "code",
   "execution_count": 14,
   "outputs": [
    {
     "name": "stdout",
     "output_type": "stream",
     "text": [
      "Наклон (slope): 1.0482421155802528\n",
      "Сдвиг (intercept): 816.4922362776197\n",
      "Среднеквадратичная ошибка (MSE): 19078079.201597903\n"
     ]
    }
   ],
   "source": [
    "# Выберем наиболее коррелирующую переменную в качестве предиктора\n",
    "most_correlated_variable = '2015'\n",
    "predictor = data[most_correlated_variable]\n",
    "\n",
    "# Создание матрицы признаков X и целевой переменной y\n",
    "X = predictor.values.reshape(-1, 1)\n",
    "y = target_data.values\n",
    "\n",
    "# Инициализация и обучение модели линейной регрессии\n",
    "regression_model = LinearRegression()\n",
    "regression_model.fit(X, y)\n",
    "\n",
    "# Получение предсказанных значений\n",
    "y_predicted = regression_model.predict(X)\n",
    "\n",
    "# Вычисление наклона и сдвига\n",
    "slope = regression_model.coef_[0]\n",
    "intercept = regression_model.intercept_\n",
    "\n",
    "# Вычисление среднеквадратичной ошибки (MSE)\n",
    "mse = mean_squared_error(y, y_predicted)\n",
    "\n",
    "# Вывод результатов\n",
    "print(\"Наклон (slope):\", slope)\n",
    "print(\"Сдвиг (intercept):\", intercept)\n",
    "print(\"Среднеквадратичная ошибка (MSE):\", mse)"
   ],
   "metadata": {
    "collapsed": false,
    "ExecuteTime": {
     "end_time": "2023-11-06T14:52:42.772213500Z",
     "start_time": "2023-11-06T14:52:42.727753300Z"
    }
   }
  },
  {
   "cell_type": "code",
   "execution_count": 15,
   "outputs": [
    {
     "data": {
      "text/plain": "array([1425887, 1417173,  338290,  275501,  235825,  218541,  215313,\n        171186,  144713,  127504,  123952,  123380,  115559,  110990,\n         99010,   98187,   88551,   85341,   83370,   71697,   67509,\n         65498,   64627,   59894,   59037,   54179,   54027,   51874,\n         51816,   47559,   47250,   46874,   45510,   44903,   44496,\n         41129,   39857,   39702,   38454,   37458,   36409,   35589,\n         34628,   34050,   33938,   33697,   33476,   32970,   30548,\n         29612,   28302,   28161,   27915,   26208,   26177,   26069,\n         23893,   22674,   22594,   22125,   21832,   20405,   20018,\n         19659,   19604,   19398,   18001,   17844,   17723,   17598,\n         17564,   17316,   16768,   16321,   13859,   13777,   13353,\n         12890,   12356,   12224,   11656,   11585,   11286,   11229,\n         11212,   10913,   10549,   10494,   10433,   10385,   10358,\n         10271,   10143,    9967,    9953,    9535,    9441,    9038,\n          8940,    8849,    8740,    8606,    7529,    7489,    7221,\n          6948,    6812,    6782,    6781,    6631,    6431,    6336,\n          5976,    5970,    5882,    5643,    5579,    5541,    5490,\n          5434,    5303,    5250,    5185,    5181,    5023,    4736,\n          4576,    4409,    4269,    4030,    3744,    3684,    3423,\n          3398,    3273,    3252,    3234,    2842,    2827,    2780,\n          2750,    2706,    2695,    2630,    2389,    2306,    2120,\n          2106,    2094,    1851,    1675,    1531,    1472,    1341,\n          1326,    1299,    1251,    1202,    1121,     974,     930,\n           837,     809,     782,     724,     695,     648,     627,\n           618,     593,     576,     533,     524,     449,     410,\n           405,     396,     373,     368,     327,     326,     306,\n           305,     290,     282,     227,     222,     191,     180,\n           172,     131,     125,     114,     111,     107,     107,\n           106,     104,      99,      94,      85,      80,      73,\n            69,      64,      63,      56,      53,      50,      48,\n            46,      44,      44,      42,      39,      36,      34,\n            33,      32,      31,      18,      17,      16,      13,\n            12,      11,      11,       6,       4,       4,       2,\n             2,       1], dtype=int64)"
     },
     "execution_count": 15,
     "metadata": {},
     "output_type": "execute_result"
    }
   ],
   "source": [
    "target_data.values"
   ],
   "metadata": {
    "collapsed": false,
    "ExecuteTime": {
     "end_time": "2023-11-06T14:55:26.056469200Z",
     "start_time": "2023-11-06T14:55:26.045435400Z"
    }
   }
  },
  {
   "cell_type": "code",
   "execution_count": 16,
   "outputs": [
    {
     "data": {
      "text/plain": "<Figure size 640x480 with 1 Axes>",
      "image/png": "[encoded data removed]"
     },
     "metadata": {},
     "output_type": "display_data"
    }
   ],
   "source": [
    "# Построение графика\n",
    "plt.scatter(X, y, color='b', label='Данные')\n",
    "plt.plot(X, y_predicted, color='r', label='Регрессия')\n",
    "plt.xlabel(most_correlated_variable)\n",
    "plt.ylabel(target_variable)\n",
    "plt.title('Регрессия')\n",
    "plt.legend()\n",
    "plt.show()"
   ],
   "metadata": {
    "collapsed": false,
    "ExecuteTime": {
     "end_time": "2023-11-06T16:33:43.267154500Z",
     "start_time": "2023-11-06T16:33:43.079642900Z"
    }
   }
  },
  {
   "cell_type": "code",
   "execution_count": 18,
   "outputs": [
    {
     "data": {
      "text/plain": "      age     sex     bmi  children smoker     region      charges\n0      19  female  27.900         0    yes  southwest  16884.92400\n1      18    male  33.770         1     no  southeast   1725.55230\n2      28    male  33.000         3     no  southeast   4449.46200\n3      33    male  22.705         0     no  northwest  21984.47061\n4      32    male  28.880         0     no  northwest   3866.85520\n...   ...     ...     ...       ...    ...        ...          ...\n1333   50    male  30.970         3     no  northwest  10600.54830\n1334   18  female  31.920         0     no  northeast   2205.98080\n1335   18  female  36.850         0     no  southeast   1629.83350\n1336   21  female  25.800         0     no  southwest   2007.94500\n1337   61  female  29.070         0    yes  northwest  29141.36030\n\n[1338 rows x 7 columns]",
      "text/html": "<div>\n<style scoped>\n    .dataframe tbody tr th:only-of-type {\n        vertical-align: middle;\n    }\n\n    .dataframe tbody tr th {\n        vertical-align: top;\n    }\n\n    .dataframe thead th {\n        text-align: right;\n    }\n</style>\n<table border=\"1\" class=\"dataframe\">\n  <thead>\n    <tr style=\"text-align: right;\">\n      <th></th>\n      <th>age</th>\n      <th>sex</th>\n      <th>bmi</th>\n      <th>children</th>\n      <th>smoker</th>\n      <th>region</th>\n      <th>charges</th>\n    </tr>\n  </thead>\n  <tbody>\n    <tr>\n      <th>0</th>\n      <td>19</td>\n      <td>female</td>\n      <td>27.900</td>\n      <td>0</td>\n      <td>yes</td>\n      <td>southwest</td>\n      <td>16884.92400</td>\n    </tr>\n    <tr>\n      <th>1</th>\n      <td>18</td>\n      <td>male</td>\n      <td>33.770</td>\n      <td>1</td>\n      <td>no</td>\n      <td>southeast</td>\n      <td>1725.55230</td>\n    </tr>\n    <tr>\n      <th>2</th>\n      <td>28</td>\n      <td>male</td>\n      <td>33.000</td>\n      <td>3</td>\n      <td>no</td>\n      <td>southeast</td>\n      <td>4449.46200</td>\n    </tr>\n    <tr>\n      <th>3</th>\n      <td>33</td>\n      <td>male</td>\n      <td>22.705</td>\n      <td>0</td>\n      <td>no</td>\n      <td>northwest</td>\n      <td>21984.47061</td>\n    </tr>\n    <tr>\n      <th>4</th>\n      <td>32</td>\n      <td>male</td>\n      <td>28.880</td>\n      <td>0</td>\n      <td>no</td>\n      <td>northwest</td>\n      <td>3866.85520</td>\n    </tr>\n    <tr>\n      <th>...</th>\n      <td>...</td>\n      <td>...</td>\n      <td>...</td>\n      <td>...</td>\n      <td>...</td>\n      <td>...</td>\n      <td>...</td>\n    </tr>\n    <tr>\n      <th>1333</th>\n      <td>50</td>\n      <td>male</td>\n      <td>30.970</td>\n      <td>3</td>\n      <td>no</td>\n      <td>northwest</td>\n      <td>10600.54830</td>\n    </tr>\n    <tr>\n      <th>1334</th>\n      <td>18</td>\n      <td>female</td>\n      <td>31.920</td>\n      <td>0</td>\n      <td>no</td>\n      <td>northeast</td>\n      <td>2205.98080</td>\n    </tr>\n    <tr>\n      <th>1335</th>\n      <td>18</td>\n      <td>female</td>\n      <td>36.850</td>\n      <td>0</td>\n      <td>no</td>\n      <td>southeast</td>\n      <td>1629.83350</td>\n    </tr>\n    <tr>\n      <th>1336</th>\n      <td>21</td>\n      <td>female</td>\n      <td>25.800</td>\n      <td>0</td>\n      <td>no</td>\n      <td>southwest</td>\n      <td>2007.94500</td>\n    </tr>\n    <tr>\n      <th>1337</th>\n      <td>61</td>\n      <td>female</td>\n      <td>29.070</td>\n      <td>0</td>\n      <td>yes</td>\n      <td>northwest</td>\n      <td>29141.36030</td>\n    </tr>\n  </tbody>\n</table>\n<p>1338 rows × 7 columns</p>\n</div>"
     },
     "execution_count": 18,
     "metadata": {},
     "output_type": "execute_result"
    }
   ],
   "source": [
    "data_ins = pd.read_csv('insurance.csv')\n",
    "data_ins"
   ],
   "metadata": {
    "collapsed": false,
    "ExecuteTime": {
     "end_time": "2023-11-06T16:40:09.547511200Z",
     "start_time": "2023-11-06T16:40:09.524409800Z"
    }
   }
  },
  {
   "cell_type": "code",
   "execution_count": 20,
   "outputs": [
    {
     "data": {
      "text/plain": "   age     sex     bmi  children smoker     region      charges\n0   19  female  27.900         0    yes  southwest  16884.92400\n1   18    male  33.770         1     no  southeast   1725.55230\n2   28    male  33.000         3     no  southeast   4449.46200\n3   33    male  22.705         0     no  northwest  21984.47061\n4   32    male  28.880         0     no  northwest   3866.85520",
      "text/html": "<div>\n<style scoped>\n    .dataframe tbody tr th:only-of-type {\n        vertical-align: middle;\n    }\n\n    .dataframe tbody tr th {\n        vertical-align: top;\n    }\n\n    .dataframe thead th {\n        text-align: right;\n    }\n</style>\n<table border=\"1\" class=\"dataframe\">\n  <thead>\n    <tr style=\"text-align: right;\">\n      <th></th>\n      <th>age</th>\n      <th>sex</th>\n      <th>bmi</th>\n      <th>children</th>\n      <th>smoker</th>\n      <th>region</th>\n      <th>charges</th>\n    </tr>\n  </thead>\n  <tbody>\n    <tr>\n      <th>0</th>\n      <td>19</td>\n      <td>female</td>\n      <td>27.900</td>\n      <td>0</td>\n      <td>yes</td>\n      <td>southwest</td>\n      <td>16884.92400</td>\n    </tr>\n    <tr>\n      <th>1</th>\n      <td>18</td>\n      <td>male</td>\n      <td>33.770</td>\n      <td>1</td>\n      <td>no</td>\n      <td>southeast</td>\n      <td>1725.55230</td>\n    </tr>\n    <tr>\n      <th>2</th>\n      <td>28</td>\n      <td>male</td>\n      <td>33.000</td>\n      <td>3</td>\n      <td>no</td>\n      <td>southeast</td>\n      <td>4449.46200</td>\n    </tr>\n    <tr>\n      <th>3</th>\n      <td>33</td>\n      <td>male</td>\n      <td>22.705</td>\n      <td>0</td>\n      <td>no</td>\n      <td>northwest</td>\n      <td>21984.47061</td>\n    </tr>\n    <tr>\n      <th>4</th>\n      <td>32</td>\n      <td>male</td>\n      <td>28.880</td>\n      <td>0</td>\n      <td>no</td>\n      <td>northwest</td>\n      <td>3866.85520</td>\n    </tr>\n  </tbody>\n</table>\n</div>"
     },
     "execution_count": 20,
     "metadata": {},
     "output_type": "execute_result"
    }
   ],
   "source": [
    "data_ins.head()"
   ],
   "metadata": {
    "collapsed": false,
    "ExecuteTime": {
     "end_time": "2023-11-06T16:43:37.579988300Z",
     "start_time": "2023-11-06T16:43:37.561261500Z"
    }
   }
  },
  {
   "cell_type": "code",
   "execution_count": 22,
   "outputs": [
    {
     "data": {
      "text/plain": "age         0\nsex         0\nbmi         0\nchildren    0\nsmoker      0\nregion      0\ncharges     0\ndtype: int64"
     },
     "execution_count": 22,
     "metadata": {},
     "output_type": "execute_result"
    }
   ],
   "source": [
    "data_ins.isnull().sum()"
   ],
   "metadata": {
    "collapsed": false,
    "ExecuteTime": {
     "end_time": "2023-11-06T16:44:02.643643200Z",
     "start_time": "2023-11-06T16:44:02.636612500Z"
    }
   }
  },
  {
   "cell_type": "code",
   "execution_count": 23,
   "outputs": [
    {
     "data": {
      "text/plain": "age           int64\nsex          object\nbmi         float64\nchildren      int64\nsmoker       object\nregion       object\ncharges     float64\ndtype: object"
     },
     "execution_count": 23,
     "metadata": {},
     "output_type": "execute_result"
    }
   ],
   "source": [
    "data_ins.dtypes"
   ],
   "metadata": {
    "collapsed": false,
    "ExecuteTime": {
     "end_time": "2023-11-06T16:44:16.173007500Z",
     "start_time": "2023-11-06T16:44:16.155566700Z"
    }
   }
  },
  {
   "cell_type": "code",
   "execution_count": 24,
   "outputs": [
    {
     "data": {
      "text/plain": "array(['southwest', 'southeast', 'northwest', 'northeast'], dtype=object)"
     },
     "execution_count": 24,
     "metadata": {},
     "output_type": "execute_result"
    }
   ],
   "source": [
    "unique_regions = data_ins['region'].unique()\n",
    "unique_regions"
   ],
   "metadata": {
    "collapsed": false,
    "ExecuteTime": {
     "end_time": "2023-11-06T16:45:16.955721300Z",
     "start_time": "2023-11-06T16:45:16.936678100Z"
    }
   }
  },
  {
   "cell_type": "code",
   "execution_count": 25,
   "outputs": [
    {
     "name": "stdout",
     "output_type": "stream",
     "text": [
      "F-статистика: 39.49505720170283\n",
      "p-значение: 1.881838913929143e-24\n"
     ]
    }
   ],
   "source": [
    "# Создание списков с данными для каждого региона\n",
    "region_data = []\n",
    "for region in unique_regions:\n",
    "    region_data.append(data_ins[data_ins['region'] == region]['bmi'])\n",
    "\n",
    "# Выполнение однофакторного ANOVA теста\n",
    "f_statistic, p_value = stats.f_oneway(*region_data)\n",
    "print(\"F-статистика:\", f_statistic)\n",
    "print(\"p-значение:\", p_value)"
   ],
   "metadata": {
    "collapsed": false,
    "ExecuteTime": {
     "end_time": "2023-11-06T16:46:33.752401200Z",
     "start_time": "2023-11-06T16:46:33.736803Z"
    }
   }
  },
  {
   "cell_type": "code",
   "execution_count": 26,
   "outputs": [
    {
     "name": "stdout",
     "output_type": "stream",
     "text": [
      "              df        sum_sq      mean_sq          F        PR(>F)\n",
      "region       3.0   4055.880631  1351.960210  39.495057  1.881839e-24\n",
      "Residual  1334.0  45664.319755    34.231124        NaN           NaN\n"
     ]
    }
   ],
   "source": [
    "# Используем библиотеку statsmodels\n",
    "model = sm.formula.ols('bmi ~ region', data=data_ins).fit()\n",
    "anova_table = sm.stats.anova_lm(model)\n",
    "print(anova_table)"
   ],
   "metadata": {
    "collapsed": false,
    "ExecuteTime": {
     "end_time": "2023-11-06T16:46:51.879180900Z",
     "start_time": "2023-11-06T16:46:51.831781500Z"
    }
   }
  },
  {
   "cell_type": "code",
   "execution_count": 27,
   "outputs": [
    {
     "name": "stdout",
     "output_type": "stream",
     "text": [
      "Значимая разница между southwest и southeast с p-значением 5.4374009639680636e-09\n",
      "Значимая разница между southwest и northwest с p-значением 0.001076958496307695\n",
      "Значимая разница между southwest и northeast с p-значением 0.0019086161671573074\n",
      "Значимая разница между southeast и northwest с p-значением 2.643571405230106e-19\n",
      "Значимая разница между southeast и northeast с p-значением 1.186014937424813e-17\n"
     ]
    }
   ],
   "source": [
    "bmi_by_region = []\n",
    "for region in unique_regions:\n",
    "    bmi_by_region.append(data_ins[data_ins['region'] == region]['bmi'].values)\n",
    "\n",
    "# Перебор всех пар регионов\n",
    "num_regions = len(unique_regions)\n",
    "alpha = 0.05\n",
    "bonferroni_correction = alpha / (num_regions * (num_regions - 1) / 2)\n",
    "significant_pairs = []\n",
    "for i in range(num_regions):\n",
    "    for j in range(i + 1, num_regions):\n",
    "        region1 = unique_regions[i]\n",
    "        region2 = unique_regions[j]\n",
    "        t_statistic, p_value = stats.ttest_ind(bmi_by_region[i], bmi_by_region[j])\n",
    "        if p_value < bonferroni_correction:\n",
    "            significant_pairs.append((region1, region2, p_value))\n",
    "\n",
    "# Вывод значимых пар регионов\n",
    "for pair in significant_pairs:\n",
    "    print(\"Значимая разница между\", pair[0], \"и\", pair[1], \"с p-значением\", pair[2])"
   ],
   "metadata": {
    "collapsed": false,
    "ExecuteTime": {
     "end_time": "2023-11-06T16:47:52.926273600Z",
     "start_time": "2023-11-06T16:47:52.912584700Z"
    }
   }
  },
  {
   "cell_type": "code",
   "execution_count": 28,
   "outputs": [
    {
     "name": "stdout",
     "output_type": "stream",
     "text": [
      "   Multiple Comparison of Means - Tukey HSD, FWER=0.05    \n",
      "==========================================================\n",
      "  group1    group2  meandiff p-adj   lower   upper  reject\n",
      "----------------------------------------------------------\n",
      "northeast northwest   0.0263 0.9999 -1.1552  1.2078  False\n",
      "northeast southeast   4.1825    0.0   3.033   5.332   True\n",
      "northeast southwest   1.4231 0.0107  0.2416  2.6046   True\n",
      "northwest southeast   4.1562    0.0  3.0077  5.3047   True\n",
      "northwest southwest   1.3968 0.0127  0.2162  2.5774   True\n",
      "southeast southwest  -2.7594    0.0 -3.9079 -1.6108   True\n",
      "----------------------------------------------------------\n"
     ]
    },
    {
     "data": {
      "text/plain": "<Figure size 1000x600 with 1 Axes>",
      "image/png": "[encoded data removed]"
     },
     "metadata": {},
     "output_type": "display_data"
    }
   ],
   "source": [
    "posthoc = pairwise_tukeyhsd(data_ins['bmi'], data_ins['region'])\n",
    "\n",
    "# Построение графика пост-хок теста\n",
    "posthoc.plot_simultaneous()\n",
    "\n",
    "# Вывод результатов\n",
    "print(posthoc.summary())"
   ],
   "metadata": {
    "collapsed": false,
    "ExecuteTime": {
     "end_time": "2023-11-06T16:49:01.237821200Z",
     "start_time": "2023-11-06T16:49:00.582972900Z"
    }
   }
  },
  {
   "cell_type": "code",
   "execution_count": 29,
   "outputs": [
    {
     "name": "stdout",
     "output_type": "stream",
     "text": [
      "              df        sum_sq      mean_sq          F        PR(>F)\n",
      "region       3.0   4055.880631  1351.960210  39.539923  1.773031e-24\n",
      "sex          1.0     86.007035    86.007035   2.515393  1.129767e-01\n",
      "Residual  1333.0  45578.312720    34.192283        NaN           NaN\n"
     ]
    }
   ],
   "source": [
    "model = sm.formula.ols('bmi ~ region + sex', data=data_ins).fit()\n",
    "anova_table = sm.stats.anova_lm(model)\n",
    "print(anova_table)"
   ],
   "metadata": {
    "collapsed": false,
    "ExecuteTime": {
     "end_time": "2023-11-06T16:49:31.685784Z",
     "start_time": "2023-11-06T16:49:31.654434Z"
    }
   }
  },
  {
   "cell_type": "code",
   "execution_count": null,
   "outputs": [],
   "source": [],
   "metadata": {
    "collapsed": false
   }
  }
 ],
 "metadata": {
  "kernelspec": {
   "display_name": "Python 3",
   "language": "python",
   "name": "python3"
  },
  "language_info": {
   "codemirror_mode": {
    "name": "ipython",
    "version": 2
   },
   "file_extension": ".py",
   "mimetype": "text/x-python",
   "name": "python",
   "nbconvert_exporter": "python",
   "pygments_lexer": "ipython2",
   "version": "2.7.6"
  }
 },
 "nbformat": 4,
 "nbformat_minor": 0
}
